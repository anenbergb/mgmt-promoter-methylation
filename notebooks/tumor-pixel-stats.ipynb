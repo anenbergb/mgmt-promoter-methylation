{
 "cells": [
  {
   "cell_type": "code",
   "execution_count": 1,
   "id": "67c35b29",
   "metadata": {},
   "outputs": [
    {
     "name": "stderr",
     "output_type": "stream",
     "text": [
      "2023-05-11 09:36:18.904728: I tensorflow/core/platform/cpu_feature_guard.cc:182] This TensorFlow binary is optimized to use available CPU instructions in performance-critical operations.\n",
      "To enable the following instructions: AVX2 FMA, in other operations, rebuild TensorFlow with the appropriate compiler flags.\n",
      "2023-05-11 09:36:19.703829: W tensorflow/compiler/tf2tensorrt/utils/py_utils.cc:38] TF-TRT Warning: Could not find TensorRT\n"
     ]
    }
   ],
   "source": [
    "from mgmt.data_science.plot_center_mass import (\n",
    "    load_data,\n",
    "    tumor_dataframe,\n",
    ")\n",
    "import matplotlib.pyplot as plt\n",
    "import numpy as np\n",
    "from monai.visualize import blend_images\n",
    "from PIL import Image\n",
    "\n",
    "\n",
    "import matplotlib.patches as mpatches\n",
    "\n",
    "import plotly.express as px\n",
    "\n",
    "import matplotlib\n",
    "%matplotlib inline\n",
    "\n",
    "%load_ext autoreload\n",
    "%autoreload 2\n",
    "\n",
    "# import plotly.offline as pyo\n",
    "# Set notebook mode to work in offline\n",
    "# pyo.init_notebook_mode()\n",
    "\n",
    "import plotly\n",
    "plotly.io.renderers.default = \"iframe\""
   ]
  },
  {
   "cell_type": "code",
   "execution_count": 2,
   "id": "7d62ab9d",
   "metadata": {},
   "outputs": [
    {
     "name": "stderr",
     "output_type": "stream",
     "text": [
      "\u001b[32m2023-05-11 09:36:31.402\u001b[0m | \u001b[1mINFO    \u001b[0m | \u001b[36mmgmt.data_science.dataframe\u001b[0m:\u001b[36mtumor_dataframe\u001b[0m:\u001b[36m48\u001b[0m - \u001b[1mtumor_dataframe: adding center of mass\u001b[0m\n",
      "\u001b[32m2023-05-11 09:36:32.640\u001b[0m | \u001b[1mINFO    \u001b[0m | \u001b[36mmgmt.data_science.dataframe\u001b[0m:\u001b[36mtumor_dataframe\u001b[0m:\u001b[36m50\u001b[0m - \u001b[1mtumr_dataframe: adding tumor quadrant\u001b[0m\n",
      "\u001b[32m2023-05-11 09:36:32.646\u001b[0m | \u001b[1mINFO    \u001b[0m | \u001b[36mmgmt.data_science.dataframe\u001b[0m:\u001b[36mtumor_dataframe\u001b[0m:\u001b[36m52\u001b[0m - \u001b[1mtumor_dataframe: adding pixel statistics\u001b[0m\n",
      "\u001b[32m2023-05-11 09:36:39.025\u001b[0m | \u001b[1mINFO    \u001b[0m | \u001b[36mmgmt.data_science.dataframe\u001b[0m:\u001b[36mtumor_dataframe\u001b[0m:\u001b[36m54\u001b[0m - \u001b[1mtumor_dataframe: adding center of mass box\u001b[0m\n"
     ]
    }
   ],
   "source": [
    "data = load_data(\"/home/bryan/data/brain_tumor/caidm_3d_96/data.npz\")\n",
    "tumor_df = tumor_dataframe(data)"
   ]
  },
  {
   "cell_type": "code",
   "execution_count": 3,
   "id": "1e9025b5",
   "metadata": {},
   "outputs": [
    {
     "data": {
      "text/html": [
       "<div>\n",
       "<style scoped>\n",
       "    .dataframe tbody tr th:only-of-type {\n",
       "        vertical-align: middle;\n",
       "    }\n",
       "\n",
       "    .dataframe tbody tr th {\n",
       "        vertical-align: top;\n",
       "    }\n",
       "\n",
       "    .dataframe thead th {\n",
       "        text-align: right;\n",
       "    }\n",
       "</style>\n",
       "<table border=\"1\" class=\"dataframe\">\n",
       "  <thead>\n",
       "    <tr style=\"text-align: right;\">\n",
       "      <th></th>\n",
       "      <th>patient</th>\n",
       "      <th>methylation</th>\n",
       "      <th>tumor_volume</th>\n",
       "      <th>tumor_volume_rel_%</th>\n",
       "      <th>tumor_area_max</th>\n",
       "      <th>tumor_area_max_slice</th>\n",
       "      <th>tumor_center_of_mass_slice</th>\n",
       "      <th>tumor_center_of_mass_H</th>\n",
       "      <th>tumor_center_of_mass_W</th>\n",
       "      <th>tumor_quadrant</th>\n",
       "      <th>...</th>\n",
       "      <th>t1c_flip_tumor_mean</th>\n",
       "      <th>t1c_flip_tumor_median</th>\n",
       "      <th>t1c_flip_tumor_min</th>\n",
       "      <th>t1c_flip_tumor_max</th>\n",
       "      <th>tumor_center_of_mass_x_min</th>\n",
       "      <th>tumor_center_of_mass_y_min</th>\n",
       "      <th>tumor_center_of_mass_x_max</th>\n",
       "      <th>tumor_center_of_mass_y_max</th>\n",
       "      <th>tumor_center_of_mass_width</th>\n",
       "      <th>tumor_center_of_mass_height</th>\n",
       "    </tr>\n",
       "  </thead>\n",
       "  <tbody>\n",
       "    <tr>\n",
       "      <th>0</th>\n",
       "      <td>0</td>\n",
       "      <td>True</td>\n",
       "      <td>5717</td>\n",
       "      <td>1.292363</td>\n",
       "      <td>670</td>\n",
       "      <td>21</td>\n",
       "      <td>20.905020</td>\n",
       "      <td>24.423999</td>\n",
       "      <td>61.561658</td>\n",
       "      <td>1</td>\n",
       "      <td>...</td>\n",
       "      <td>0.078343</td>\n",
       "      <td>0.150288</td>\n",
       "      <td>-1.652827</td>\n",
       "      <td>3.392599</td>\n",
       "      <td>47</td>\n",
       "      <td>5</td>\n",
       "      <td>77</td>\n",
       "      <td>39</td>\n",
       "      <td>30</td>\n",
       "      <td>34</td>\n",
       "    </tr>\n",
       "    <tr>\n",
       "      <th>1</th>\n",
       "      <td>1</td>\n",
       "      <td>True</td>\n",
       "      <td>23373</td>\n",
       "      <td>5.283610</td>\n",
       "      <td>1756</td>\n",
       "      <td>22</td>\n",
       "      <td>23.913276</td>\n",
       "      <td>34.328071</td>\n",
       "      <td>61.086638</td>\n",
       "      <td>1</td>\n",
       "      <td>...</td>\n",
       "      <td>0.248084</td>\n",
       "      <td>0.297372</td>\n",
       "      <td>-2.292908</td>\n",
       "      <td>4.000000</td>\n",
       "      <td>36</td>\n",
       "      <td>10</td>\n",
       "      <td>83</td>\n",
       "      <td>56</td>\n",
       "      <td>47</td>\n",
       "      <td>46</td>\n",
       "    </tr>\n",
       "    <tr>\n",
       "      <th>2</th>\n",
       "      <td>2</td>\n",
       "      <td>False</td>\n",
       "      <td>12074</td>\n",
       "      <td>2.729402</td>\n",
       "      <td>921</td>\n",
       "      <td>36</td>\n",
       "      <td>36.650157</td>\n",
       "      <td>43.096074</td>\n",
       "      <td>54.470764</td>\n",
       "      <td>1</td>\n",
       "      <td>...</td>\n",
       "      <td>0.330724</td>\n",
       "      <td>0.058445</td>\n",
       "      <td>-2.443656</td>\n",
       "      <td>4.000000</td>\n",
       "      <td>36</td>\n",
       "      <td>27</td>\n",
       "      <td>73</td>\n",
       "      <td>62</td>\n",
       "      <td>37</td>\n",
       "      <td>35</td>\n",
       "    </tr>\n",
       "    <tr>\n",
       "      <th>3</th>\n",
       "      <td>3</td>\n",
       "      <td>True</td>\n",
       "      <td>19164</td>\n",
       "      <td>4.332140</td>\n",
       "      <td>1389</td>\n",
       "      <td>31</td>\n",
       "      <td>31.888958</td>\n",
       "      <td>61.274682</td>\n",
       "      <td>66.145533</td>\n",
       "      <td>4</td>\n",
       "      <td>...</td>\n",
       "      <td>0.218822</td>\n",
       "      <td>0.256596</td>\n",
       "      <td>-2.076559</td>\n",
       "      <td>3.845161</td>\n",
       "      <td>50</td>\n",
       "      <td>41</td>\n",
       "      <td>88</td>\n",
       "      <td>86</td>\n",
       "      <td>38</td>\n",
       "      <td>45</td>\n",
       "    </tr>\n",
       "    <tr>\n",
       "      <th>4</th>\n",
       "      <td>4</td>\n",
       "      <td>True</td>\n",
       "      <td>20382</td>\n",
       "      <td>4.607476</td>\n",
       "      <td>1490</td>\n",
       "      <td>24</td>\n",
       "      <td>25.222746</td>\n",
       "      <td>19.678344</td>\n",
       "      <td>51.455353</td>\n",
       "      <td>1</td>\n",
       "      <td>...</td>\n",
       "      <td>0.355529</td>\n",
       "      <td>-0.019456</td>\n",
       "      <td>-2.116908</td>\n",
       "      <td>4.000000</td>\n",
       "      <td>28</td>\n",
       "      <td>0</td>\n",
       "      <td>78</td>\n",
       "      <td>38</td>\n",
       "      <td>50</td>\n",
       "      <td>38</td>\n",
       "    </tr>\n",
       "    <tr>\n",
       "      <th>...</th>\n",
       "      <td>...</td>\n",
       "      <td>...</td>\n",
       "      <td>...</td>\n",
       "      <td>...</td>\n",
       "      <td>...</td>\n",
       "      <td>...</td>\n",
       "      <td>...</td>\n",
       "      <td>...</td>\n",
       "      <td>...</td>\n",
       "      <td>...</td>\n",
       "      <td>...</td>\n",
       "      <td>...</td>\n",
       "      <td>...</td>\n",
       "      <td>...</td>\n",
       "      <td>...</td>\n",
       "      <td>...</td>\n",
       "      <td>...</td>\n",
       "      <td>...</td>\n",
       "      <td>...</td>\n",
       "      <td>...</td>\n",
       "      <td>...</td>\n",
       "    </tr>\n",
       "    <tr>\n",
       "      <th>560</th>\n",
       "      <td>560</td>\n",
       "      <td>True</td>\n",
       "      <td>15556</td>\n",
       "      <td>3.516529</td>\n",
       "      <td>1124</td>\n",
       "      <td>30</td>\n",
       "      <td>30.484122</td>\n",
       "      <td>63.029763</td>\n",
       "      <td>36.336333</td>\n",
       "      <td>3</td>\n",
       "      <td>...</td>\n",
       "      <td>0.740267</td>\n",
       "      <td>0.697368</td>\n",
       "      <td>-2.794466</td>\n",
       "      <td>3.890177</td>\n",
       "      <td>20</td>\n",
       "      <td>42</td>\n",
       "      <td>62</td>\n",
       "      <td>83</td>\n",
       "      <td>42</td>\n",
       "      <td>41</td>\n",
       "    </tr>\n",
       "    <tr>\n",
       "      <th>561</th>\n",
       "      <td>561</td>\n",
       "      <td>True</td>\n",
       "      <td>7873</td>\n",
       "      <td>1.779740</td>\n",
       "      <td>771</td>\n",
       "      <td>18</td>\n",
       "      <td>19.575384</td>\n",
       "      <td>60.721326</td>\n",
       "      <td>72.918328</td>\n",
       "      <td>4</td>\n",
       "      <td>...</td>\n",
       "      <td>0.749785</td>\n",
       "      <td>0.741072</td>\n",
       "      <td>-0.862182</td>\n",
       "      <td>2.592731</td>\n",
       "      <td>59</td>\n",
       "      <td>46</td>\n",
       "      <td>89</td>\n",
       "      <td>78</td>\n",
       "      <td>30</td>\n",
       "      <td>32</td>\n",
       "    </tr>\n",
       "    <tr>\n",
       "      <th>562</th>\n",
       "      <td>562</td>\n",
       "      <td>True</td>\n",
       "      <td>8465</td>\n",
       "      <td>1.913565</td>\n",
       "      <td>708</td>\n",
       "      <td>30</td>\n",
       "      <td>29.628352</td>\n",
       "      <td>37.658476</td>\n",
       "      <td>28.221973</td>\n",
       "      <td>2</td>\n",
       "      <td>...</td>\n",
       "      <td>0.258106</td>\n",
       "      <td>0.348259</td>\n",
       "      <td>-1.986163</td>\n",
       "      <td>3.441184</td>\n",
       "      <td>16</td>\n",
       "      <td>21</td>\n",
       "      <td>45</td>\n",
       "      <td>54</td>\n",
       "      <td>29</td>\n",
       "      <td>33</td>\n",
       "    </tr>\n",
       "    <tr>\n",
       "      <th>563</th>\n",
       "      <td>563</td>\n",
       "      <td>False</td>\n",
       "      <td>15276</td>\n",
       "      <td>3.453234</td>\n",
       "      <td>1240</td>\n",
       "      <td>30</td>\n",
       "      <td>28.408811</td>\n",
       "      <td>38.754844</td>\n",
       "      <td>55.287444</td>\n",
       "      <td>1</td>\n",
       "      <td>...</td>\n",
       "      <td>0.341521</td>\n",
       "      <td>0.389954</td>\n",
       "      <td>-2.681590</td>\n",
       "      <td>2.243522</td>\n",
       "      <td>19</td>\n",
       "      <td>2</td>\n",
       "      <td>93</td>\n",
       "      <td>78</td>\n",
       "      <td>74</td>\n",
       "      <td>76</td>\n",
       "    </tr>\n",
       "    <tr>\n",
       "      <th>564</th>\n",
       "      <td>564</td>\n",
       "      <td>False</td>\n",
       "      <td>7931</td>\n",
       "      <td>1.792851</td>\n",
       "      <td>909</td>\n",
       "      <td>18</td>\n",
       "      <td>18.486067</td>\n",
       "      <td>51.842643</td>\n",
       "      <td>71.863321</td>\n",
       "      <td>4</td>\n",
       "      <td>...</td>\n",
       "      <td>0.049377</td>\n",
       "      <td>0.091912</td>\n",
       "      <td>-2.573863</td>\n",
       "      <td>4.000000</td>\n",
       "      <td>59</td>\n",
       "      <td>25</td>\n",
       "      <td>88</td>\n",
       "      <td>74</td>\n",
       "      <td>29</td>\n",
       "      <td>49</td>\n",
       "    </tr>\n",
       "  </tbody>\n",
       "</table>\n",
       "<p>565 rows × 64 columns</p>\n",
       "</div>"
      ],
      "text/plain": [
       "     patient  methylation  tumor_volume  tumor_volume_rel_%  tumor_area_max   \n",
       "0          0         True          5717            1.292363             670  \\\n",
       "1          1         True         23373            5.283610            1756   \n",
       "2          2        False         12074            2.729402             921   \n",
       "3          3         True         19164            4.332140            1389   \n",
       "4          4         True         20382            4.607476            1490   \n",
       "..       ...          ...           ...                 ...             ...   \n",
       "560      560         True         15556            3.516529            1124   \n",
       "561      561         True          7873            1.779740             771   \n",
       "562      562         True          8465            1.913565             708   \n",
       "563      563        False         15276            3.453234            1240   \n",
       "564      564        False          7931            1.792851             909   \n",
       "\n",
       "     tumor_area_max_slice  tumor_center_of_mass_slice  tumor_center_of_mass_H   \n",
       "0                      21                   20.905020               24.423999  \\\n",
       "1                      22                   23.913276               34.328071   \n",
       "2                      36                   36.650157               43.096074   \n",
       "3                      31                   31.888958               61.274682   \n",
       "4                      24                   25.222746               19.678344   \n",
       "..                    ...                         ...                     ...   \n",
       "560                    30                   30.484122               63.029763   \n",
       "561                    18                   19.575384               60.721326   \n",
       "562                    30                   29.628352               37.658476   \n",
       "563                    30                   28.408811               38.754844   \n",
       "564                    18                   18.486067               51.842643   \n",
       "\n",
       "     tumor_center_of_mass_W  tumor_quadrant  ...  t1c_flip_tumor_mean   \n",
       "0                 61.561658               1  ...             0.078343  \\\n",
       "1                 61.086638               1  ...             0.248084   \n",
       "2                 54.470764               1  ...             0.330724   \n",
       "3                 66.145533               4  ...             0.218822   \n",
       "4                 51.455353               1  ...             0.355529   \n",
       "..                      ...             ...  ...                  ...   \n",
       "560               36.336333               3  ...             0.740267   \n",
       "561               72.918328               4  ...             0.749785   \n",
       "562               28.221973               2  ...             0.258106   \n",
       "563               55.287444               1  ...             0.341521   \n",
       "564               71.863321               4  ...             0.049377   \n",
       "\n",
       "     t1c_flip_tumor_median  t1c_flip_tumor_min  t1c_flip_tumor_max   \n",
       "0                 0.150288           -1.652827            3.392599  \\\n",
       "1                 0.297372           -2.292908            4.000000   \n",
       "2                 0.058445           -2.443656            4.000000   \n",
       "3                 0.256596           -2.076559            3.845161   \n",
       "4                -0.019456           -2.116908            4.000000   \n",
       "..                     ...                 ...                 ...   \n",
       "560               0.697368           -2.794466            3.890177   \n",
       "561               0.741072           -0.862182            2.592731   \n",
       "562               0.348259           -1.986163            3.441184   \n",
       "563               0.389954           -2.681590            2.243522   \n",
       "564               0.091912           -2.573863            4.000000   \n",
       "\n",
       "     tumor_center_of_mass_x_min  tumor_center_of_mass_y_min   \n",
       "0                            47                           5  \\\n",
       "1                            36                          10   \n",
       "2                            36                          27   \n",
       "3                            50                          41   \n",
       "4                            28                           0   \n",
       "..                          ...                         ...   \n",
       "560                          20                          42   \n",
       "561                          59                          46   \n",
       "562                          16                          21   \n",
       "563                          19                           2   \n",
       "564                          59                          25   \n",
       "\n",
       "     tumor_center_of_mass_x_max  tumor_center_of_mass_y_max   \n",
       "0                            77                          39  \\\n",
       "1                            83                          56   \n",
       "2                            73                          62   \n",
       "3                            88                          86   \n",
       "4                            78                          38   \n",
       "..                          ...                         ...   \n",
       "560                          62                          83   \n",
       "561                          89                          78   \n",
       "562                          45                          54   \n",
       "563                          93                          78   \n",
       "564                          88                          74   \n",
       "\n",
       "     tumor_center_of_mass_width  tumor_center_of_mass_height  \n",
       "0                            30                           34  \n",
       "1                            47                           46  \n",
       "2                            37                           35  \n",
       "3                            38                           45  \n",
       "4                            50                           38  \n",
       "..                          ...                          ...  \n",
       "560                          42                           41  \n",
       "561                          30                           32  \n",
       "562                          29                           33  \n",
       "563                          74                           76  \n",
       "564                          29                           49  \n",
       "\n",
       "[565 rows x 64 columns]"
      ]
     },
     "execution_count": 3,
     "metadata": {},
     "output_type": "execute_result"
    }
   ],
   "source": [
    "tumor_df"
   ]
  },
  {
   "cell_type": "code",
   "execution_count": 4,
   "id": "ff036686",
   "metadata": {},
   "outputs": [
    {
     "data": {
      "text/plain": [
       "Index(['patient', 'methylation', 'tumor_volume', 'tumor_volume_rel_%',\n",
       "       'tumor_area_max', 'tumor_area_max_slice', 'tumor_center_of_mass_slice',\n",
       "       'tumor_center_of_mass_H', 'tumor_center_of_mass_W', 'tumor_quadrant',\n",
       "       't2w_tumor_mean', 't2w_tumor_median', 't2w_tumor_min', 't2w_tumor_max',\n",
       "       't2w_non_tumor_mean', 't2w_non_tumor_median', 't2w_non_tumor_min',\n",
       "       't2w_non_tumor_max', 't2w_flip_tumor_mean', 't2w_flip_tumor_median',\n",
       "       't2w_flip_tumor_min', 't2w_flip_tumor_max', 'fla_tumor_mean',\n",
       "       'fla_tumor_median', 'fla_tumor_min', 'fla_tumor_max',\n",
       "       'fla_non_tumor_mean', 'fla_non_tumor_median', 'fla_non_tumor_min',\n",
       "       'fla_non_tumor_max', 'fla_flip_tumor_mean', 'fla_flip_tumor_median',\n",
       "       'fla_flip_tumor_min', 'fla_flip_tumor_max', 't1w_tumor_mean',\n",
       "       't1w_tumor_median', 't1w_tumor_min', 't1w_tumor_max',\n",
       "       't1w_non_tumor_mean', 't1w_non_tumor_median', 't1w_non_tumor_min',\n",
       "       't1w_non_tumor_max', 't1w_flip_tumor_mean', 't1w_flip_tumor_median',\n",
       "       't1w_flip_tumor_min', 't1w_flip_tumor_max', 't1c_tumor_mean',\n",
       "       't1c_tumor_median', 't1c_tumor_min', 't1c_tumor_max',\n",
       "       't1c_non_tumor_mean', 't1c_non_tumor_median', 't1c_non_tumor_min',\n",
       "       't1c_non_tumor_max', 't1c_flip_tumor_mean', 't1c_flip_tumor_median',\n",
       "       't1c_flip_tumor_min', 't1c_flip_tumor_max',\n",
       "       'tumor_center_of_mass_x_min', 'tumor_center_of_mass_y_min',\n",
       "       'tumor_center_of_mass_x_max', 'tumor_center_of_mass_y_max',\n",
       "       'tumor_center_of_mass_width', 'tumor_center_of_mass_height'],\n",
       "      dtype='object')"
      ]
     },
     "execution_count": 4,
     "metadata": {},
     "output_type": "execute_result"
    }
   ],
   "source": [
    "tumor_df.columns"
   ]
  },
  {
   "cell_type": "code",
   "execution_count": 9,
   "id": "439cd1a4",
   "metadata": {
    "collapsed": true
   },
   "outputs": [
    {
     "data": {
      "text/plain": [
       "[7,\n",
       " 60,\n",
       " 63,\n",
       " 64,\n",
       " 70,\n",
       " 73,\n",
       " 80,\n",
       " 82,\n",
       " 84,\n",
       " 89,\n",
       " 133,\n",
       " 152,\n",
       " 167,\n",
       " 206,\n",
       " 252,\n",
       " 290,\n",
       " 370,\n",
       " 374,\n",
       " 379,\n",
       " 381,\n",
       " 384,\n",
       " 386,\n",
       " 388,\n",
       " 391,\n",
       " 392,\n",
       " 393,\n",
       " 464,\n",
       " 468,\n",
       " 483,\n",
       " 495]"
      ]
     },
     "execution_count": 9,
     "metadata": {},
     "output_type": "execute_result"
    }
   ],
   "source": [
    "patient_exclude_list = np.array([\n",
    "    7, 60, 63, 64, 70, 73, 80, 82, 84, 89, 133, 152, 167, 206, 252, 290, 370, 374, 379, 381,\n",
    "    384, 386, 388, 391, 392, 393, 464, 468, 483, 495\n",
    "])\n",
    "patient_exclude_list.tolist()"
   ]
  },
  {
   "cell_type": "code",
   "execution_count": 7,
   "id": "15e8c9cf",
   "metadata": {},
   "outputs": [
    {
     "name": "stdout",
     "output_type": "stream",
     "text": [
      "Excluding 30 patients with low quality MRI\n"
     ]
    }
   ],
   "source": [
    "print(f\"Excluding {len(patient_exclude_list)} patients with low quality MRI\")"
   ]
  },
  {
   "cell_type": "code",
   "execution_count": 7,
   "id": "c94d6ade",
   "metadata": {
    "scrolled": false
   },
   "outputs": [
    {
     "data": {
      "text/html": [
       "<iframe\n",
       "    scrolling=\"no\"\n",
       "    width=\"100%\"\n",
       "    height=\"545px\"\n",
       "    src=\"iframe_figures/figure_7.html\"\n",
       "    frameborder=\"0\"\n",
       "    allowfullscreen\n",
       "></iframe>\n"
      ]
     },
     "metadata": {},
     "output_type": "display_data"
    }
   ],
   "source": [
    "fig = px.line(tumor_df,\n",
    "              x=\"patient\", \n",
    "              y=[\"t2w_tumor_mean\", \"t2w_non_tumor_mean\", \"t2w_flip_tumor_mean\"],\n",
    "              title=\"t2w tumor mean\",\n",
    "#               color=\"methylation\"\n",
    ")\n",
    "fig.update_layout(hovermode=\"x unified\")\n",
    "fig.show()"
   ]
  },
  {
   "cell_type": "code",
   "execution_count": 8,
   "id": "506b5fd8",
   "metadata": {
    "scrolled": false
   },
   "outputs": [
    {
     "data": {
      "text/html": [
       "<iframe\n",
       "    scrolling=\"no\"\n",
       "    width=\"100%\"\n",
       "    height=\"545px\"\n",
       "    src=\"iframe_figures/figure_8.html\"\n",
       "    frameborder=\"0\"\n",
       "    allowfullscreen\n",
       "></iframe>\n"
      ]
     },
     "metadata": {},
     "output_type": "display_data"
    },
    {
     "data": {
      "text/html": [
       "<iframe\n",
       "    scrolling=\"no\"\n",
       "    width=\"100%\"\n",
       "    height=\"545px\"\n",
       "    src=\"iframe_figures/figure_8.html\"\n",
       "    frameborder=\"0\"\n",
       "    allowfullscreen\n",
       "></iframe>\n"
      ]
     },
     "metadata": {},
     "output_type": "display_data"
    },
    {
     "data": {
      "text/html": [
       "<iframe\n",
       "    scrolling=\"no\"\n",
       "    width=\"100%\"\n",
       "    height=\"545px\"\n",
       "    src=\"iframe_figures/figure_8.html\"\n",
       "    frameborder=\"0\"\n",
       "    allowfullscreen\n",
       "></iframe>\n"
      ]
     },
     "metadata": {},
     "output_type": "display_data"
    },
    {
     "data": {
      "text/html": [
       "<iframe\n",
       "    scrolling=\"no\"\n",
       "    width=\"100%\"\n",
       "    height=\"545px\"\n",
       "    src=\"iframe_figures/figure_8.html\"\n",
       "    frameborder=\"0\"\n",
       "    allowfullscreen\n",
       "></iframe>\n"
      ]
     },
     "metadata": {},
     "output_type": "display_data"
    }
   ],
   "source": [
    "for modality in (\"t2w\", \"fla\", \"t1w\", \"t1c\"):\n",
    "    fig = px.scatter(\n",
    "        tumor_df,\n",
    "        y=f\"{modality}_tumor_median\",\n",
    "        x=\"patient\", \n",
    "        title=f\"{modality} tumor median. methylation\",\n",
    "        color=\"methylation\"\n",
    "    )\n",
    "    fig.update_layout(hovermode=\"x unified\")\n",
    "    fig.show()"
   ]
  },
  {
   "cell_type": "code",
   "execution_count": 8,
   "id": "eb8548c6",
   "metadata": {
    "collapsed": true
   },
   "outputs": [
    {
     "data": {
      "text/plain": [
       "0        0\n",
       "1        1\n",
       "2        2\n",
       "3        3\n",
       "4        4\n",
       "      ... \n",
       "560    560\n",
       "561    561\n",
       "562    562\n",
       "563    563\n",
       "564    564\n",
       "Name: patient, Length: 565, dtype: int64"
      ]
     },
     "execution_count": 8,
     "metadata": {},
     "output_type": "execute_result"
    }
   ],
   "source": [
    "tumor_df[\"patient\"]"
   ]
  },
  {
   "cell_type": "code",
   "execution_count": 11,
   "id": "485a7830",
   "metadata": {},
   "outputs": [
    {
     "data": {
      "text/plain": [
       "0      0.598593\n",
       "1      0.242773\n",
       "2      0.747601\n",
       "3      1.378757\n",
       "4      1.207719\n",
       "         ...   \n",
       "560    1.005535\n",
       "561    1.159886\n",
       "562    0.577624\n",
       "563    0.834678\n",
       "564    0.901423\n",
       "Name: t2w_tumor_mean, Length: 565, dtype: float64"
      ]
     },
     "execution_count": 11,
     "metadata": {},
     "output_type": "execute_result"
    }
   ],
   "source": [
    "tumor_df[\"t2w_tumor_mean\"]"
   ]
  },
  {
   "cell_type": "code",
   "execution_count": 20,
   "id": "3f49d0ec",
   "metadata": {
    "collapsed": true
   },
   "outputs": [
    {
     "data": {
      "application/vnd.plotly.v1+json": {
       "config": {
        "plotlyServerURL": "https://plot.ly"
       },
       "data": [
        {
         "hovertemplate": "methylation=True<br>patient=%{x}<br>t1c_tumor_median=%{y}<extra></extra>",
         "legendgroup": "True",
         "marker": {
          "color": "#636efa",
          "symbol": "circle"
         },
         "mode": "markers",
         "name": "True",
         "orientation": "v",
         "showlegend": true,
         "type": "scatter",
         "x": [
          0,
          1,
          3,
          4,
          5,
          7,
          8,
          9,
          13,
          17,
          18,
          19,
          21,
          23,
          24,
          26,
          29,
          30,
          32,
          34,
          35,
          36,
          37,
          39,
          40,
          42,
          43,
          44,
          46,
          47,
          48,
          51,
          52,
          54,
          56,
          58,
          60,
          62,
          65,
          66,
          72,
          76,
          79,
          80,
          81,
          82,
          83,
          85,
          86,
          91,
          92,
          95,
          96,
          99,
          103,
          106,
          107,
          110,
          111,
          112,
          113,
          119,
          120,
          121,
          123,
          124,
          127,
          129,
          135,
          137,
          140,
          142,
          143,
          144,
          149,
          153,
          154,
          157,
          159,
          160,
          163,
          166,
          170,
          171,
          172,
          176,
          177,
          179,
          180,
          185,
          186,
          187,
          188,
          191,
          194,
          195,
          196,
          197,
          201,
          203,
          206,
          209,
          210,
          214,
          215,
          216,
          217,
          218,
          220,
          222,
          225,
          230,
          232,
          235,
          236,
          237,
          238,
          239,
          240,
          241,
          242,
          250,
          251,
          261,
          264,
          265,
          267,
          269,
          270,
          273,
          275,
          281,
          282,
          283,
          285,
          288,
          289,
          291,
          295,
          296,
          300,
          301,
          304,
          306,
          307,
          309,
          310,
          311,
          312,
          313,
          314,
          315,
          316,
          317,
          321,
          322,
          323,
          324,
          325,
          326,
          327,
          330,
          332,
          334,
          335,
          337,
          338,
          339,
          340,
          341,
          342,
          343,
          345,
          347,
          349,
          351,
          352,
          353,
          356,
          357,
          358,
          359,
          360,
          362,
          363,
          364,
          365,
          367,
          372,
          377,
          378,
          380,
          382,
          383,
          384,
          385,
          389,
          391,
          392,
          394,
          395,
          396,
          398,
          399,
          401,
          402,
          403,
          404,
          405,
          406,
          407,
          408,
          410,
          413,
          414,
          417,
          418,
          419,
          421,
          423,
          424,
          425,
          429,
          430,
          432,
          434,
          435,
          437,
          438,
          439,
          443,
          444,
          445,
          446,
          447,
          448,
          456,
          457,
          458,
          459,
          460,
          461,
          463,
          464,
          466,
          467,
          469,
          470,
          471,
          472,
          475,
          480,
          481,
          485,
          486,
          487,
          488,
          491,
          493,
          497,
          498,
          500,
          502,
          504,
          505,
          506,
          508,
          509,
          512,
          513,
          514,
          515,
          517,
          518,
          520,
          521,
          522,
          527,
          533,
          534,
          537,
          539,
          541,
          543,
          545,
          550,
          552,
          553,
          554,
          555,
          556,
          557,
          558,
          560,
          561,
          562
         ],
         "xaxis": "x",
         "y": [
          1.5753504037857056,
          0.24805785715579987,
          0.022888557985424995,
          -0.15494485199451447,
          0.19410942494869232,
          -2.5999317169189453,
          -0.2785409986972809,
          0.3154464364051819,
          0.7339888215065002,
          0.2533557116985321,
          0.688901424407959,
          0.21072249114513397,
          0.037334345281124115,
          -0.5582312941551208,
          0.2351800799369812,
          -0.8337119817733765,
          -0.11049950867891312,
          -0.03294657543301582,
          -0.08603639155626297,
          0.5665802359580994,
          0.12950192391872406,
          0.3442181348800659,
          -0.1087464913725853,
          -0.4858430027961731,
          0.5812760591506958,
          -0.14757275581359863,
          -0.32378876209259033,
          0.4379357695579529,
          -0.2748357057571411,
          -0.2880933880805969,
          0.296008437871933,
          0.04199835658073425,
          -0.10877253860235214,
          1.0386676788330078,
          -0.24695812165737152,
          -0.1737602949142456,
          0.419810026884079,
          0.46387580037117004,
          0.22403591871261597,
          0.5693382620811462,
          0.5976724624633789,
          0.5676945447921753,
          -0.13405385613441467,
          0.4609355032444,
          0.190944641828537,
          0.5776081681251526,
          0.5868890881538391,
          0.01685575768351555,
          0.4866839051246643,
          0.19865933060646057,
          -0.25516432523727417,
          0.18287993967533112,
          -0.33079004287719727,
          0.31111711263656616,
          0.9490507245063782,
          -0.2625531256198883,
          0.050293002277612686,
          0.7623789310455322,
          0.3422386944293976,
          -0.1910427361726761,
          0.7857996821403503,
          0.0024432167410850525,
          -0.008919467218220234,
          0.18063876032829285,
          0.03729290887713432,
          0.9352535605430603,
          1.5251144170761108,
          0.509813666343689,
          0.5474055409431458,
          0.5859304070472717,
          0.26027703285217285,
          0.11843433231115341,
          0.448650062084198,
          -0.014783188700675964,
          -0.25579601526260376,
          0.06273040920495987,
          0.5937801599502563,
          -0.09645135700702667,
          -0.37422043085098267,
          -0.31719961762428284,
          0.004841203801333904,
          0.14233431220054626,
          0.4032667875289917,
          0.05746644362807274,
          0.028588401153683662,
          -0.1361507624387741,
          0.17673662304878235,
          0.21130545437335968,
          0.7503804564476013,
          0.7518545389175415,
          0.5806267857551575,
          0.05258726328611374,
          0.19358381628990173,
          -0.019320085644721985,
          0.2711986005306244,
          -0.20352715253829956,
          0.11329453438520432,
          0.0018449559574946761,
          0.4534430503845215,
          0.46005377173423767,
          0.0059393905103206635,
          -0.03355221450328827,
          0.11508077383041382,
          0.24867264926433563,
          -0.37831899523735046,
          0.1435835212469101,
          0.2708416283130646,
          0.4261823296546936,
          0.30806803703308105,
          1.1010867357254028,
          0.08254475891590118,
          -0.7296158075332642,
          0.7491844892501831,
          0.06929410994052887,
          1.8199827671051025,
          0.17547838389873505,
          -1.2055206298828125,
          -0.0010779203148558736,
          -0.3936959207057953,
          0.21870246529579163,
          -0.3005184829235077,
          0.08023881912231445,
          -0.37670424580574036,
          -0.2362077683210373,
          0.5125743746757507,
          -0.11843675374984741,
          -0.0396670326590538,
          0.1726159304380417,
          -0.10381503403186798,
          0.07105833292007446,
          0.08023755997419357,
          0.27334362268447876,
          -0.29013773798942566,
          0.42424821853637695,
          0.630623996257782,
          0.7550666332244873,
          -0.1852813959121704,
          0.05726359039545059,
          -0.07465820759534836,
          0.816447913646698,
          -0.21422135829925537,
          1.0205806493759155,
          -0.40435269474983215,
          0.01966993883252144,
          -0.14973601698875427,
          -0.0640728697180748,
          0.29685306549072266,
          1.1394059658050537,
          0.04616629704833031,
          -0.13613082468509674,
          0.48227930068969727,
          0.07491961866617203,
          -0.21595439314842224,
          -0.016468359157443047,
          0.2945128083229065,
          0.23800228536128998,
          0.020254608243703842,
          0.7524948120117188,
          0.254792183637619,
          0.2266315072774887,
          0.2765265107154846,
          0.025839192792773247,
          0.403605580329895,
          0.1474839299917221,
          -0.05925551801919937,
          -0.09221842885017395,
          -0.38339072465896606,
          -0.2322884052991867,
          -0.8359993100166321,
          -0.11220023036003113,
          -0.19814136624336243,
          0.2899554669857025,
          -0.379552960395813,
          0.121437206864357,
          0.06016170233488083,
          0.08669236302375793,
          -0.2784642279148102,
          0.48745986819267273,
          -0.3325404226779938,
          -0.32883477210998535,
          0.25707364082336426,
          -0.4241150915622711,
          -0.1808658093214035,
          -0.052731357514858246,
          -0.43342262506484985,
          -0.17490743100643158,
          0.1707192212343216,
          -0.001523628830909729,
          0.5819879770278931,
          -0.10555561631917953,
          -0.0942879244685173,
          0.11579879373311996,
          0.32049301266670227,
          0.1037902683019638,
          0.6650881171226501,
          0.10462997853755951,
          0.11805745214223862,
          0.7015641927719116,
          0.5149018168449402,
          -0.33274635672569275,
          -0.06210227683186531,
          -0.19824443757534027,
          1.5781192779541016,
          -0.1003744974732399,
          0.31610405445098877,
          0.2116314321756363,
          -0.05294807627797127,
          -0.22783294320106506,
          0.26744478940963745,
          -0.44560205936431885,
          0.26237955689430237,
          0.4767591059207916,
          0.26117879152297974,
          0.18300533294677734,
          0.6283503174781799,
          -0.26493316888809204,
          0.3703847825527191,
          -0.3907410502433777,
          -0.09831812232732773,
          -0.17917096614837646,
          -0.38216280937194824,
          -0.5221770405769348,
          0.2334316372871399,
          -0.08047997206449509,
          -0.05799560621380806,
          -0.02422167733311653,
          -0.21137337386608124,
          -0.13124358654022217,
          0.1711152046918869,
          -0.1573607474565506,
          -0.2718232274055481,
          0.7754882574081421,
          -0.015180178917944431,
          -0.01472562737762928,
          0.21298377215862274,
          0.04257701709866524,
          -0.04623711109161377,
          -0.14074838161468506,
          0.0344376377761364,
          0.22981113195419312,
          0.0440041609108448,
          -0.012687550857663155,
          -0.2856234610080719,
          -0.5880113840103149,
          0.1115083321928978,
          0.729379415512085,
          -0.14841654896736145,
          1.1322107315063477,
          0.27444130182266235,
          -0.05818936228752136,
          0.5629643797874451,
          0.06467235833406448,
          -0.5856201648712158,
          0.512364387512207,
          0.004098107572644949,
          -0.2718823552131653,
          -0.22937923669815063,
          0.581738293170929,
          0.1807434856891632,
          0.5072706341743469,
          1.0524563789367676,
          -0.10475336015224457,
          0.05446605756878853,
          -0.5466680526733398,
          -0.11662112176418304,
          0.1012047529220581,
          0.27492430806159973,
          -0.0981365293264389,
          0.3411100208759308,
          1.352965235710144,
          0.11615070700645447,
          0.6075699329376221,
          0.23267243802547455,
          0.45156237483024597,
          0.15080326795578003,
          0.338278204202652,
          0.833084762096405,
          0.45475783944129944,
          0.49991375207901,
          0.28946444392204285,
          0.21400906145572662,
          0.33834072947502136,
          0.22444427013397217,
          0.2736804783344269,
          0.7169423699378967,
          0.24479451775550842,
          -0.033178262412548065,
          0.1202605739235878,
          -0.04958367347717285,
          -0.12279188632965088,
          0.11545216292142868,
          0.9279041886329651,
          0.668247401714325,
          0.7166599035263062,
          0.8366122841835022,
          0.11260787397623062
         ],
         "yaxis": "y"
        },
        {
         "hovertemplate": "methylation=False<br>patient=%{x}<br>t1c_tumor_median=%{y}<extra></extra>",
         "legendgroup": "False",
         "marker": {
          "color": "#EF553B",
          "symbol": "circle"
         },
         "mode": "markers",
         "name": "False",
         "orientation": "v",
         "showlegend": true,
         "type": "scatter",
         "x": [
          2,
          6,
          10,
          11,
          12,
          14,
          15,
          16,
          20,
          22,
          25,
          27,
          28,
          31,
          33,
          38,
          41,
          45,
          49,
          50,
          53,
          55,
          57,
          59,
          61,
          63,
          64,
          67,
          68,
          69,
          70,
          71,
          73,
          74,
          75,
          77,
          78,
          84,
          87,
          88,
          89,
          90,
          93,
          94,
          97,
          98,
          100,
          101,
          102,
          104,
          105,
          108,
          109,
          114,
          115,
          116,
          117,
          118,
          122,
          125,
          126,
          128,
          130,
          131,
          132,
          133,
          134,
          136,
          138,
          139,
          141,
          145,
          146,
          147,
          148,
          150,
          151,
          152,
          155,
          156,
          158,
          161,
          162,
          164,
          165,
          167,
          168,
          169,
          173,
          174,
          175,
          178,
          181,
          182,
          183,
          184,
          189,
          190,
          192,
          193,
          198,
          199,
          200,
          202,
          204,
          205,
          207,
          208,
          211,
          212,
          213,
          219,
          221,
          223,
          224,
          226,
          227,
          228,
          229,
          231,
          233,
          234,
          243,
          244,
          245,
          246,
          247,
          248,
          249,
          252,
          253,
          254,
          255,
          256,
          257,
          258,
          259,
          260,
          262,
          263,
          266,
          268,
          271,
          272,
          274,
          276,
          277,
          278,
          279,
          280,
          284,
          286,
          287,
          290,
          292,
          293,
          294,
          297,
          298,
          299,
          302,
          303,
          305,
          308,
          318,
          319,
          320,
          328,
          329,
          331,
          333,
          336,
          344,
          346,
          348,
          350,
          354,
          355,
          361,
          366,
          368,
          369,
          370,
          371,
          373,
          374,
          375,
          376,
          379,
          381,
          386,
          387,
          388,
          390,
          393,
          397,
          400,
          409,
          411,
          412,
          415,
          416,
          420,
          422,
          426,
          427,
          428,
          431,
          433,
          436,
          440,
          441,
          442,
          449,
          450,
          451,
          452,
          453,
          454,
          455,
          462,
          465,
          468,
          473,
          474,
          476,
          477,
          478,
          479,
          482,
          483,
          484,
          489,
          490,
          492,
          494,
          495,
          496,
          499,
          501,
          503,
          507,
          510,
          511,
          516,
          519,
          523,
          524,
          525,
          526,
          528,
          529,
          530,
          531,
          532,
          535,
          536,
          538,
          540,
          542,
          544,
          546,
          547,
          548,
          549,
          551,
          559,
          563,
          564
         ],
         "xaxis": "x",
         "y": [
          -0.1249651312828064,
          0.17715075612068176,
          -0.09560957551002502,
          0.211171492934227,
          -0.06049983203411102,
          0.09667159616947174,
          0.5425968766212463,
          -0.4210335314273834,
          0.28373026847839355,
          -0.025989631190896034,
          0.1778739094734192,
          0.13165289163589478,
          -0.1364063322544098,
          0.2359573394060135,
          -0.29930737614631653,
          0.5187646746635437,
          -0.013542063534259796,
          0.5066637396812439,
          0.4217235743999481,
          0.5174486041069031,
          -0.04228940233588219,
          -0.22030824422836304,
          -0.28446874022483826,
          0.3683703541755676,
          0.29734981060028076,
          0.45091021060943604,
          0.7754335403442383,
          0.05218679457902908,
          -0.0947139784693718,
          0.8652927279472351,
          0.27310460805892944,
          0.6658827066421509,
          -0.07650304585695267,
          0.9530532956123352,
          1.614891529083252,
          0.27036115527153015,
          -0.08036750555038452,
          0.5560088753700256,
          0.6018330454826355,
          0.15710186958312988,
          0.7693055868148804,
          -0.11329452693462372,
          -0.10402632504701614,
          -0.008904705755412579,
          -0.28116902709007263,
          -0.004604419227689505,
          0.06193656846880913,
          0.6627861261367798,
          -0.19694113731384277,
          -0.14396069943904877,
          -0.06827951967716217,
          -0.14022263884544373,
          -0.09429611265659332,
          -0.3180095851421356,
          -0.12403305619955063,
          0.7379282116889954,
          0.04369933158159256,
          -0.26484400033950806,
          0.09973370283842087,
          0.5742468237876892,
          0.3802361786365509,
          0.08518963307142258,
          1.096481204032898,
          -0.098727285861969,
          -0.4760884940624237,
          0.0843883603811264,
          1.2773098945617676,
          0.55992591381073,
          -0.1438300460577011,
          0.618387758731842,
          0.026389267295598984,
          1.0510375499725342,
          0.293965607881546,
          0.272419273853302,
          0.06726773828268051,
          0.0403793528676033,
          0.3163205087184906,
          0.43893468379974365,
          0.1405135840177536,
          -0.004625910893082619,
          0.6277856826782227,
          1.1406644582748413,
          0.20898142457008362,
          0.08434536308050156,
          0.6752516627311707,
          -2.386796474456787,
          0.1104159727692604,
          -0.022959047928452492,
          0.3478774428367615,
          0.8694498538970947,
          0.2777237892150879,
          0.31912097334861755,
          0.4216187000274658,
          0.266722172498703,
          0.6250202655792236,
          -0.229486346244812,
          0.5131193399429321,
          0.3765890300273895,
          -0.10302175581455231,
          0.08041110634803772,
          -0.14204028248786926,
          0.18626637756824493,
          0.4901133179664612,
          -0.03769148513674736,
          0.426337867975235,
          0.46599504351615906,
          -0.14847572147846222,
          -0.09684905409812927,
          0.2522677481174469,
          -0.04970656335353851,
          -0.2783181369304657,
          -0.08058305084705353,
          -0.00521831214427948,
          0.7080398797988892,
          0.2818705141544342,
          0.07113020867109299,
          -0.2388470321893692,
          0.2787996530532837,
          0.5539329648017883,
          0.298643559217453,
          0.3482408821582794,
          0.019700733944773674,
          0.3922911286354065,
          0.31327855587005615,
          0.5368096232414246,
          -0.22545947134494781,
          0.5317831039428711,
          0.009374016895890236,
          -0.1574622094631195,
          0.8033857941627502,
          0.18223239481449127,
          0.062224507331848145,
          0.14048153162002563,
          0.5657527446746826,
          1.3380972146987915,
          0.10839712619781494,
          0.11856839060783386,
          0.20995648205280304,
          -0.17113760113716125,
          -0.15525123476982117,
          0.17147882282733917,
          -0.17345263063907623,
          0.1974157989025116,
          0.12883839011192322,
          0.5624692440032959,
          -0.23152542114257812,
          -0.05641813948750496,
          -0.12330009788274765,
          -0.2441023588180542,
          1.0468863248825073,
          -0.31447339057922363,
          0.17399774491786957,
          1.0037105083465576,
          0.4486013352870941,
          2.0525832176208496,
          0.08836422115564346,
          0.21429525315761566,
          -0.1290459930896759,
          0.0871756300330162,
          0.5050644874572754,
          0.6123755574226379,
          0.7919276356697083,
          -0.16274715960025787,
          -0.017881162464618683,
          -0.033533383160829544,
          0.3459562361240387,
          0.08062626421451569,
          -0.23721198737621307,
          0.06046191230416298,
          -0.01147589273750782,
          0.17006707191467285,
          0.09565041214227676,
          0.17493972182273865,
          0.609229564666748,
          -0.33776891231536865,
          0.6815823912620544,
          0.07945580035448074,
          0.0974811241030693,
          0.5465408563613892,
          0.04689453914761543,
          0.24289005994796753,
          0.7886942028999329,
          0.25949445366859436,
          0.26069751381874084,
          0.5889226794242859,
          0.3998105525970459,
          -0.043419405817985535,
          0.5824063420295715,
          0.599992573261261,
          0.2860488295555115,
          0.35193344950675964,
          0.05646669492125511,
          0.9780784249305725,
          0.1053355485200882,
          0.06058763340115547,
          -0.05438507720828056,
          -0.26978838443756104,
          -0.18090733885765076,
          0.2190271019935608,
          0.0014171249931678176,
          -0.17049328982830048,
          0.335874080657959,
          0.17107731103897095,
          0.17171403765678406,
          0.7246459126472473,
          0.5005882382392883,
          1.3832104206085205,
          0.9698560237884521,
          0.31592193245887756,
          -0.20252540707588196,
          -0.2701660096645355,
          -0.2525915205478668,
          -0.029999081045389175,
          -0.1068974956870079,
          0.5048141479492188,
          0.19489791989326477,
          0.1545453816652298,
          -0.2053011953830719,
          -0.0687069520354271,
          0.021624604240059853,
          0.024087470024824142,
          0.172681987285614,
          null,
          0.05334792658686638,
          -0.157466858625412,
          -0.11536875367164612,
          -0.33759185671806335,
          0.44983363151550293,
          -0.16407257318496704,
          -0.08023910224437714,
          -0.19478172063827515,
          -0.21619178354740143,
          0.01355790439993143,
          -0.1406717449426651,
          0.5411103963851929,
          0.19220790266990662,
          null,
          0.5250102281570435,
          0.5810739994049072,
          0.9681821465492249,
          0.20228637754917145,
          -0.11486676335334778,
          0.381104975938797,
          0.3453982472419739,
          0.3190115690231323,
          0.22191859781742096,
          0.2380138635635376,
          0.3110560476779938,
          0.550676167011261,
          0.8496236801147461,
          0.5449090600013733,
          0.04715275019407272,
          0.2566378116607666,
          0.27211543917655945,
          1.0148226022720337,
          0.22703932225704193,
          0.1804337054491043,
          0.3437371850013733,
          0.45298826694488525,
          1.2682772874832153,
          0.5180970430374146,
          0.011949155479669571,
          -0.1350763440132141,
          0.8964099884033203,
          0.008319909684360027,
          0.034085121005773544,
          -0.0738130584359169,
          0.4363899827003479,
          -0.008557206019759178
         ],
         "yaxis": "y"
        }
       ],
       "layout": {
        "hovermode": "x unified",
        "legend": {
         "title": {
          "text": "methylation"
         },
         "tracegroupgap": 0
        },
        "template": {
         "data": {
          "bar": [
           {
            "error_x": {
             "color": "#2a3f5f"
            },
            "error_y": {
             "color": "#2a3f5f"
            },
            "marker": {
             "line": {
              "color": "#E5ECF6",
              "width": 0.5
             },
             "pattern": {
              "fillmode": "overlay",
              "size": 10,
              "solidity": 0.2
             }
            },
            "type": "bar"
           }
          ],
          "barpolar": [
           {
            "marker": {
             "line": {
              "color": "#E5ECF6",
              "width": 0.5
             },
             "pattern": {
              "fillmode": "overlay",
              "size": 10,
              "solidity": 0.2
             }
            },
            "type": "barpolar"
           }
          ],
          "carpet": [
           {
            "aaxis": {
             "endlinecolor": "#2a3f5f",
             "gridcolor": "white",
             "linecolor": "white",
             "minorgridcolor": "white",
             "startlinecolor": "#2a3f5f"
            },
            "baxis": {
             "endlinecolor": "#2a3f5f",
             "gridcolor": "white",
             "linecolor": "white",
             "minorgridcolor": "white",
             "startlinecolor": "#2a3f5f"
            },
            "type": "carpet"
           }
          ],
          "choropleth": [
           {
            "colorbar": {
             "outlinewidth": 0,
             "ticks": ""
            },
            "type": "choropleth"
           }
          ],
          "contour": [
           {
            "colorbar": {
             "outlinewidth": 0,
             "ticks": ""
            },
            "colorscale": [
             [
              0,
              "#0d0887"
             ],
             [
              0.1111111111111111,
              "#46039f"
             ],
             [
              0.2222222222222222,
              "#7201a8"
             ],
             [
              0.3333333333333333,
              "#9c179e"
             ],
             [
              0.4444444444444444,
              "#bd3786"
             ],
             [
              0.5555555555555556,
              "#d8576b"
             ],
             [
              0.6666666666666666,
              "#ed7953"
             ],
             [
              0.7777777777777778,
              "#fb9f3a"
             ],
             [
              0.8888888888888888,
              "#fdca26"
             ],
             [
              1,
              "#f0f921"
             ]
            ],
            "type": "contour"
           }
          ],
          "contourcarpet": [
           {
            "colorbar": {
             "outlinewidth": 0,
             "ticks": ""
            },
            "type": "contourcarpet"
           }
          ],
          "heatmap": [
           {
            "colorbar": {
             "outlinewidth": 0,
             "ticks": ""
            },
            "colorscale": [
             [
              0,
              "#0d0887"
             ],
             [
              0.1111111111111111,
              "#46039f"
             ],
             [
              0.2222222222222222,
              "#7201a8"
             ],
             [
              0.3333333333333333,
              "#9c179e"
             ],
             [
              0.4444444444444444,
              "#bd3786"
             ],
             [
              0.5555555555555556,
              "#d8576b"
             ],
             [
              0.6666666666666666,
              "#ed7953"
             ],
             [
              0.7777777777777778,
              "#fb9f3a"
             ],
             [
              0.8888888888888888,
              "#fdca26"
             ],
             [
              1,
              "#f0f921"
             ]
            ],
            "type": "heatmap"
           }
          ],
          "heatmapgl": [
           {
            "colorbar": {
             "outlinewidth": 0,
             "ticks": ""
            },
            "colorscale": [
             [
              0,
              "#0d0887"
             ],
             [
              0.1111111111111111,
              "#46039f"
             ],
             [
              0.2222222222222222,
              "#7201a8"
             ],
             [
              0.3333333333333333,
              "#9c179e"
             ],
             [
              0.4444444444444444,
              "#bd3786"
             ],
             [
              0.5555555555555556,
              "#d8576b"
             ],
             [
              0.6666666666666666,
              "#ed7953"
             ],
             [
              0.7777777777777778,
              "#fb9f3a"
             ],
             [
              0.8888888888888888,
              "#fdca26"
             ],
             [
              1,
              "#f0f921"
             ]
            ],
            "type": "heatmapgl"
           }
          ],
          "histogram": [
           {
            "marker": {
             "pattern": {
              "fillmode": "overlay",
              "size": 10,
              "solidity": 0.2
             }
            },
            "type": "histogram"
           }
          ],
          "histogram2d": [
           {
            "colorbar": {
             "outlinewidth": 0,
             "ticks": ""
            },
            "colorscale": [
             [
              0,
              "#0d0887"
             ],
             [
              0.1111111111111111,
              "#46039f"
             ],
             [
              0.2222222222222222,
              "#7201a8"
             ],
             [
              0.3333333333333333,
              "#9c179e"
             ],
             [
              0.4444444444444444,
              "#bd3786"
             ],
             [
              0.5555555555555556,
              "#d8576b"
             ],
             [
              0.6666666666666666,
              "#ed7953"
             ],
             [
              0.7777777777777778,
              "#fb9f3a"
             ],
             [
              0.8888888888888888,
              "#fdca26"
             ],
             [
              1,
              "#f0f921"
             ]
            ],
            "type": "histogram2d"
           }
          ],
          "histogram2dcontour": [
           {
            "colorbar": {
             "outlinewidth": 0,
             "ticks": ""
            },
            "colorscale": [
             [
              0,
              "#0d0887"
             ],
             [
              0.1111111111111111,
              "#46039f"
             ],
             [
              0.2222222222222222,
              "#7201a8"
             ],
             [
              0.3333333333333333,
              "#9c179e"
             ],
             [
              0.4444444444444444,
              "#bd3786"
             ],
             [
              0.5555555555555556,
              "#d8576b"
             ],
             [
              0.6666666666666666,
              "#ed7953"
             ],
             [
              0.7777777777777778,
              "#fb9f3a"
             ],
             [
              0.8888888888888888,
              "#fdca26"
             ],
             [
              1,
              "#f0f921"
             ]
            ],
            "type": "histogram2dcontour"
           }
          ],
          "mesh3d": [
           {
            "colorbar": {
             "outlinewidth": 0,
             "ticks": ""
            },
            "type": "mesh3d"
           }
          ],
          "parcoords": [
           {
            "line": {
             "colorbar": {
              "outlinewidth": 0,
              "ticks": ""
             }
            },
            "type": "parcoords"
           }
          ],
          "pie": [
           {
            "automargin": true,
            "type": "pie"
           }
          ],
          "scatter": [
           {
            "fillpattern": {
             "fillmode": "overlay",
             "size": 10,
             "solidity": 0.2
            },
            "type": "scatter"
           }
          ],
          "scatter3d": [
           {
            "line": {
             "colorbar": {
              "outlinewidth": 0,
              "ticks": ""
             }
            },
            "marker": {
             "colorbar": {
              "outlinewidth": 0,
              "ticks": ""
             }
            },
            "type": "scatter3d"
           }
          ],
          "scattercarpet": [
           {
            "marker": {
             "colorbar": {
              "outlinewidth": 0,
              "ticks": ""
             }
            },
            "type": "scattercarpet"
           }
          ],
          "scattergeo": [
           {
            "marker": {
             "colorbar": {
              "outlinewidth": 0,
              "ticks": ""
             }
            },
            "type": "scattergeo"
           }
          ],
          "scattergl": [
           {
            "marker": {
             "colorbar": {
              "outlinewidth": 0,
              "ticks": ""
             }
            },
            "type": "scattergl"
           }
          ],
          "scattermapbox": [
           {
            "marker": {
             "colorbar": {
              "outlinewidth": 0,
              "ticks": ""
             }
            },
            "type": "scattermapbox"
           }
          ],
          "scatterpolar": [
           {
            "marker": {
             "colorbar": {
              "outlinewidth": 0,
              "ticks": ""
             }
            },
            "type": "scatterpolar"
           }
          ],
          "scatterpolargl": [
           {
            "marker": {
             "colorbar": {
              "outlinewidth": 0,
              "ticks": ""
             }
            },
            "type": "scatterpolargl"
           }
          ],
          "scatterternary": [
           {
            "marker": {
             "colorbar": {
              "outlinewidth": 0,
              "ticks": ""
             }
            },
            "type": "scatterternary"
           }
          ],
          "surface": [
           {
            "colorbar": {
             "outlinewidth": 0,
             "ticks": ""
            },
            "colorscale": [
             [
              0,
              "#0d0887"
             ],
             [
              0.1111111111111111,
              "#46039f"
             ],
             [
              0.2222222222222222,
              "#7201a8"
             ],
             [
              0.3333333333333333,
              "#9c179e"
             ],
             [
              0.4444444444444444,
              "#bd3786"
             ],
             [
              0.5555555555555556,
              "#d8576b"
             ],
             [
              0.6666666666666666,
              "#ed7953"
             ],
             [
              0.7777777777777778,
              "#fb9f3a"
             ],
             [
              0.8888888888888888,
              "#fdca26"
             ],
             [
              1,
              "#f0f921"
             ]
            ],
            "type": "surface"
           }
          ],
          "table": [
           {
            "cells": {
             "fill": {
              "color": "#EBF0F8"
             },
             "line": {
              "color": "white"
             }
            },
            "header": {
             "fill": {
              "color": "#C8D4E3"
             },
             "line": {
              "color": "white"
             }
            },
            "type": "table"
           }
          ]
         },
         "layout": {
          "annotationdefaults": {
           "arrowcolor": "#2a3f5f",
           "arrowhead": 0,
           "arrowwidth": 1
          },
          "autotypenumbers": "strict",
          "coloraxis": {
           "colorbar": {
            "outlinewidth": 0,
            "ticks": ""
           }
          },
          "colorscale": {
           "diverging": [
            [
             0,
             "#8e0152"
            ],
            [
             0.1,
             "#c51b7d"
            ],
            [
             0.2,
             "#de77ae"
            ],
            [
             0.3,
             "#f1b6da"
            ],
            [
             0.4,
             "#fde0ef"
            ],
            [
             0.5,
             "#f7f7f7"
            ],
            [
             0.6,
             "#e6f5d0"
            ],
            [
             0.7,
             "#b8e186"
            ],
            [
             0.8,
             "#7fbc41"
            ],
            [
             0.9,
             "#4d9221"
            ],
            [
             1,
             "#276419"
            ]
           ],
           "sequential": [
            [
             0,
             "#0d0887"
            ],
            [
             0.1111111111111111,
             "#46039f"
            ],
            [
             0.2222222222222222,
             "#7201a8"
            ],
            [
             0.3333333333333333,
             "#9c179e"
            ],
            [
             0.4444444444444444,
             "#bd3786"
            ],
            [
             0.5555555555555556,
             "#d8576b"
            ],
            [
             0.6666666666666666,
             "#ed7953"
            ],
            [
             0.7777777777777778,
             "#fb9f3a"
            ],
            [
             0.8888888888888888,
             "#fdca26"
            ],
            [
             1,
             "#f0f921"
            ]
           ],
           "sequentialminus": [
            [
             0,
             "#0d0887"
            ],
            [
             0.1111111111111111,
             "#46039f"
            ],
            [
             0.2222222222222222,
             "#7201a8"
            ],
            [
             0.3333333333333333,
             "#9c179e"
            ],
            [
             0.4444444444444444,
             "#bd3786"
            ],
            [
             0.5555555555555556,
             "#d8576b"
            ],
            [
             0.6666666666666666,
             "#ed7953"
            ],
            [
             0.7777777777777778,
             "#fb9f3a"
            ],
            [
             0.8888888888888888,
             "#fdca26"
            ],
            [
             1,
             "#f0f921"
            ]
           ]
          },
          "colorway": [
           "#636efa",
           "#EF553B",
           "#00cc96",
           "#ab63fa",
           "#FFA15A",
           "#19d3f3",
           "#FF6692",
           "#B6E880",
           "#FF97FF",
           "#FECB52"
          ],
          "font": {
           "color": "#2a3f5f"
          },
          "geo": {
           "bgcolor": "white",
           "lakecolor": "white",
           "landcolor": "#E5ECF6",
           "showlakes": true,
           "showland": true,
           "subunitcolor": "white"
          },
          "hoverlabel": {
           "align": "left"
          },
          "hovermode": "closest",
          "mapbox": {
           "style": "light"
          },
          "paper_bgcolor": "white",
          "plot_bgcolor": "#E5ECF6",
          "polar": {
           "angularaxis": {
            "gridcolor": "white",
            "linecolor": "white",
            "ticks": ""
           },
           "bgcolor": "#E5ECF6",
           "radialaxis": {
            "gridcolor": "white",
            "linecolor": "white",
            "ticks": ""
           }
          },
          "scene": {
           "xaxis": {
            "backgroundcolor": "#E5ECF6",
            "gridcolor": "white",
            "gridwidth": 2,
            "linecolor": "white",
            "showbackground": true,
            "ticks": "",
            "zerolinecolor": "white"
           },
           "yaxis": {
            "backgroundcolor": "#E5ECF6",
            "gridcolor": "white",
            "gridwidth": 2,
            "linecolor": "white",
            "showbackground": true,
            "ticks": "",
            "zerolinecolor": "white"
           },
           "zaxis": {
            "backgroundcolor": "#E5ECF6",
            "gridcolor": "white",
            "gridwidth": 2,
            "linecolor": "white",
            "showbackground": true,
            "ticks": "",
            "zerolinecolor": "white"
           }
          },
          "shapedefaults": {
           "line": {
            "color": "#2a3f5f"
           }
          },
          "ternary": {
           "aaxis": {
            "gridcolor": "white",
            "linecolor": "white",
            "ticks": ""
           },
           "baxis": {
            "gridcolor": "white",
            "linecolor": "white",
            "ticks": ""
           },
           "bgcolor": "#E5ECF6",
           "caxis": {
            "gridcolor": "white",
            "linecolor": "white",
            "ticks": ""
           }
          },
          "title": {
           "x": 0.05
          },
          "xaxis": {
           "automargin": true,
           "gridcolor": "white",
           "linecolor": "white",
           "ticks": "",
           "title": {
            "standoff": 15
           },
           "zerolinecolor": "white",
           "zerolinewidth": 2
          },
          "yaxis": {
           "automargin": true,
           "gridcolor": "white",
           "linecolor": "white",
           "ticks": "",
           "title": {
            "standoff": 15
           },
           "zerolinecolor": "white",
           "zerolinewidth": 2
          }
         }
        },
        "title": {
         "text": "t1c tumor median. methylation"
        },
        "xaxis": {
         "anchor": "y",
         "domain": [
          0,
          1
         ],
         "title": {
          "text": "patient"
         }
        },
        "yaxis": {
         "anchor": "x",
         "domain": [
          0,
          1
         ],
         "title": {
          "text": "t1c_tumor_median"
         }
        }
       }
      },
      "text/html": [
       "<div>                            <div id=\"c45667fa-f00d-4cc9-9c38-9c508725c86d\" class=\"plotly-graph-div\" style=\"height:525px; width:100%;\"></div>            <script type=\"text/javascript\">                require([\"plotly\"], function(Plotly) {                    window.PLOTLYENV=window.PLOTLYENV || {};                                    if (document.getElementById(\"c45667fa-f00d-4cc9-9c38-9c508725c86d\")) {                    Plotly.newPlot(                        \"c45667fa-f00d-4cc9-9c38-9c508725c86d\",                        [{\"hovertemplate\":\"methylation=True<br>patient=%{x}<br>t1c_tumor_median=%{y}<extra></extra>\",\"legendgroup\":\"True\",\"marker\":{\"color\":\"#636efa\",\"symbol\":\"circle\"},\"mode\":\"markers\",\"name\":\"True\",\"orientation\":\"v\",\"showlegend\":true,\"x\":[0,1,3,4,5,7,8,9,13,17,18,19,21,23,24,26,29,30,32,34,35,36,37,39,40,42,43,44,46,47,48,51,52,54,56,58,60,62,65,66,72,76,79,80,81,82,83,85,86,91,92,95,96,99,103,106,107,110,111,112,113,119,120,121,123,124,127,129,135,137,140,142,143,144,149,153,154,157,159,160,163,166,170,171,172,176,177,179,180,185,186,187,188,191,194,195,196,197,201,203,206,209,210,214,215,216,217,218,220,222,225,230,232,235,236,237,238,239,240,241,242,250,251,261,264,265,267,269,270,273,275,281,282,283,285,288,289,291,295,296,300,301,304,306,307,309,310,311,312,313,314,315,316,317,321,322,323,324,325,326,327,330,332,334,335,337,338,339,340,341,342,343,345,347,349,351,352,353,356,357,358,359,360,362,363,364,365,367,372,377,378,380,382,383,384,385,389,391,392,394,395,396,398,399,401,402,403,404,405,406,407,408,410,413,414,417,418,419,421,423,424,425,429,430,432,434,435,437,438,439,443,444,445,446,447,448,456,457,458,459,460,461,463,464,466,467,469,470,471,472,475,480,481,485,486,487,488,491,493,497,498,500,502,504,505,506,508,509,512,513,514,515,517,518,520,521,522,527,533,534,537,539,541,543,545,550,552,553,554,555,556,557,558,560,561,562],\"xaxis\":\"x\",\"y\":[1.5753504037857056,0.24805785715579987,0.022888557985424995,-0.15494485199451447,0.19410942494869232,-2.5999317169189453,-0.2785409986972809,0.3154464364051819,0.7339888215065002,0.2533557116985321,0.688901424407959,0.21072249114513397,0.037334345281124115,-0.5582312941551208,0.2351800799369812,-0.8337119817733765,-0.11049950867891312,-0.03294657543301582,-0.08603639155626297,0.5665802359580994,0.12950192391872406,0.3442181348800659,-0.1087464913725853,-0.4858430027961731,0.5812760591506958,-0.14757275581359863,-0.32378876209259033,0.4379357695579529,-0.2748357057571411,-0.2880933880805969,0.296008437871933,0.04199835658073425,-0.10877253860235214,1.0386676788330078,-0.24695812165737152,-0.1737602949142456,0.419810026884079,0.46387580037117004,0.22403591871261597,0.5693382620811462,0.5976724624633789,0.5676945447921753,-0.13405385613441467,0.4609355032444,0.190944641828537,0.5776081681251526,0.5868890881538391,0.01685575768351555,0.4866839051246643,0.19865933060646057,-0.25516432523727417,0.18287993967533112,-0.33079004287719727,0.31111711263656616,0.9490507245063782,-0.2625531256198883,0.050293002277612686,0.7623789310455322,0.3422386944293976,-0.1910427361726761,0.7857996821403503,0.0024432167410850525,-0.008919467218220234,0.18063876032829285,0.03729290887713432,0.9352535605430603,1.5251144170761108,0.509813666343689,0.5474055409431458,0.5859304070472717,0.26027703285217285,0.11843433231115341,0.448650062084198,-0.014783188700675964,-0.25579601526260376,0.06273040920495987,0.5937801599502563,-0.09645135700702667,-0.37422043085098267,-0.31719961762428284,0.004841203801333904,0.14233431220054626,0.4032667875289917,0.05746644362807274,0.028588401153683662,-0.1361507624387741,0.17673662304878235,0.21130545437335968,0.7503804564476013,0.7518545389175415,0.5806267857551575,0.05258726328611374,0.19358381628990173,-0.019320085644721985,0.2711986005306244,-0.20352715253829956,0.11329453438520432,0.0018449559574946761,0.4534430503845215,0.46005377173423767,0.0059393905103206635,-0.03355221450328827,0.11508077383041382,0.24867264926433563,-0.37831899523735046,0.1435835212469101,0.2708416283130646,0.4261823296546936,0.30806803703308105,1.1010867357254028,0.08254475891590118,-0.7296158075332642,0.7491844892501831,0.06929410994052887,1.8199827671051025,0.17547838389873505,-1.2055206298828125,-0.0010779203148558736,-0.3936959207057953,0.21870246529579163,-0.3005184829235077,0.08023881912231445,-0.37670424580574036,-0.2362077683210373,0.5125743746757507,-0.11843675374984741,-0.0396670326590538,0.1726159304380417,-0.10381503403186798,0.07105833292007446,0.08023755997419357,0.27334362268447876,-0.29013773798942566,0.42424821853637695,0.630623996257782,0.7550666332244873,-0.1852813959121704,0.05726359039545059,-0.07465820759534836,0.816447913646698,-0.21422135829925537,1.0205806493759155,-0.40435269474983215,0.01966993883252144,-0.14973601698875427,-0.0640728697180748,0.29685306549072266,1.1394059658050537,0.04616629704833031,-0.13613082468509674,0.48227930068969727,0.07491961866617203,-0.21595439314842224,-0.016468359157443047,0.2945128083229065,0.23800228536128998,0.020254608243703842,0.7524948120117188,0.254792183637619,0.2266315072774887,0.2765265107154846,0.025839192792773247,0.403605580329895,0.1474839299917221,-0.05925551801919937,-0.09221842885017395,-0.38339072465896606,-0.2322884052991867,-0.8359993100166321,-0.11220023036003113,-0.19814136624336243,0.2899554669857025,-0.379552960395813,0.121437206864357,0.06016170233488083,0.08669236302375793,-0.2784642279148102,0.48745986819267273,-0.3325404226779938,-0.32883477210998535,0.25707364082336426,-0.4241150915622711,-0.1808658093214035,-0.052731357514858246,-0.43342262506484985,-0.17490743100643158,0.1707192212343216,-0.001523628830909729,0.5819879770278931,-0.10555561631917953,-0.0942879244685173,0.11579879373311996,0.32049301266670227,0.1037902683019638,0.6650881171226501,0.10462997853755951,0.11805745214223862,0.7015641927719116,0.5149018168449402,-0.33274635672569275,-0.06210227683186531,-0.19824443757534027,1.5781192779541016,-0.1003744974732399,0.31610405445098877,0.2116314321756363,-0.05294807627797127,-0.22783294320106506,0.26744478940963745,-0.44560205936431885,0.26237955689430237,0.4767591059207916,0.26117879152297974,0.18300533294677734,0.6283503174781799,-0.26493316888809204,0.3703847825527191,-0.3907410502433777,-0.09831812232732773,-0.17917096614837646,-0.38216280937194824,-0.5221770405769348,0.2334316372871399,-0.08047997206449509,-0.05799560621380806,-0.02422167733311653,-0.21137337386608124,-0.13124358654022217,0.1711152046918869,-0.1573607474565506,-0.2718232274055481,0.7754882574081421,-0.015180178917944431,-0.01472562737762928,0.21298377215862274,0.04257701709866524,-0.04623711109161377,-0.14074838161468506,0.0344376377761364,0.22981113195419312,0.0440041609108448,-0.012687550857663155,-0.2856234610080719,-0.5880113840103149,0.1115083321928978,0.729379415512085,-0.14841654896736145,1.1322107315063477,0.27444130182266235,-0.05818936228752136,0.5629643797874451,0.06467235833406448,-0.5856201648712158,0.512364387512207,0.004098107572644949,-0.2718823552131653,-0.22937923669815063,0.581738293170929,0.1807434856891632,0.5072706341743469,1.0524563789367676,-0.10475336015224457,0.05446605756878853,-0.5466680526733398,-0.11662112176418304,0.1012047529220581,0.27492430806159973,-0.0981365293264389,0.3411100208759308,1.352965235710144,0.11615070700645447,0.6075699329376221,0.23267243802547455,0.45156237483024597,0.15080326795578003,0.338278204202652,0.833084762096405,0.45475783944129944,0.49991375207901,0.28946444392204285,0.21400906145572662,0.33834072947502136,0.22444427013397217,0.2736804783344269,0.7169423699378967,0.24479451775550842,-0.033178262412548065,0.1202605739235878,-0.04958367347717285,-0.12279188632965088,0.11545216292142868,0.9279041886329651,0.668247401714325,0.7166599035263062,0.8366122841835022,0.11260787397623062],\"yaxis\":\"y\",\"type\":\"scatter\"},{\"hovertemplate\":\"methylation=False<br>patient=%{x}<br>t1c_tumor_median=%{y}<extra></extra>\",\"legendgroup\":\"False\",\"marker\":{\"color\":\"#EF553B\",\"symbol\":\"circle\"},\"mode\":\"markers\",\"name\":\"False\",\"orientation\":\"v\",\"showlegend\":true,\"x\":[2,6,10,11,12,14,15,16,20,22,25,27,28,31,33,38,41,45,49,50,53,55,57,59,61,63,64,67,68,69,70,71,73,74,75,77,78,84,87,88,89,90,93,94,97,98,100,101,102,104,105,108,109,114,115,116,117,118,122,125,126,128,130,131,132,133,134,136,138,139,141,145,146,147,148,150,151,152,155,156,158,161,162,164,165,167,168,169,173,174,175,178,181,182,183,184,189,190,192,193,198,199,200,202,204,205,207,208,211,212,213,219,221,223,224,226,227,228,229,231,233,234,243,244,245,246,247,248,249,252,253,254,255,256,257,258,259,260,262,263,266,268,271,272,274,276,277,278,279,280,284,286,287,290,292,293,294,297,298,299,302,303,305,308,318,319,320,328,329,331,333,336,344,346,348,350,354,355,361,366,368,369,370,371,373,374,375,376,379,381,386,387,388,390,393,397,400,409,411,412,415,416,420,422,426,427,428,431,433,436,440,441,442,449,450,451,452,453,454,455,462,465,468,473,474,476,477,478,479,482,483,484,489,490,492,494,495,496,499,501,503,507,510,511,516,519,523,524,525,526,528,529,530,531,532,535,536,538,540,542,544,546,547,548,549,551,559,563,564],\"xaxis\":\"x\",\"y\":[-0.1249651312828064,0.17715075612068176,-0.09560957551002502,0.211171492934227,-0.06049983203411102,0.09667159616947174,0.5425968766212463,-0.4210335314273834,0.28373026847839355,-0.025989631190896034,0.1778739094734192,0.13165289163589478,-0.1364063322544098,0.2359573394060135,-0.29930737614631653,0.5187646746635437,-0.013542063534259796,0.5066637396812439,0.4217235743999481,0.5174486041069031,-0.04228940233588219,-0.22030824422836304,-0.28446874022483826,0.3683703541755676,0.29734981060028076,0.45091021060943604,0.7754335403442383,0.05218679457902908,-0.0947139784693718,0.8652927279472351,0.27310460805892944,0.6658827066421509,-0.07650304585695267,0.9530532956123352,1.614891529083252,0.27036115527153015,-0.08036750555038452,0.5560088753700256,0.6018330454826355,0.15710186958312988,0.7693055868148804,-0.11329452693462372,-0.10402632504701614,-0.008904705755412579,-0.28116902709007263,-0.004604419227689505,0.06193656846880913,0.6627861261367798,-0.19694113731384277,-0.14396069943904877,-0.06827951967716217,-0.14022263884544373,-0.09429611265659332,-0.3180095851421356,-0.12403305619955063,0.7379282116889954,0.04369933158159256,-0.26484400033950806,0.09973370283842087,0.5742468237876892,0.3802361786365509,0.08518963307142258,1.096481204032898,-0.098727285861969,-0.4760884940624237,0.0843883603811264,1.2773098945617676,0.55992591381073,-0.1438300460577011,0.618387758731842,0.026389267295598984,1.0510375499725342,0.293965607881546,0.272419273853302,0.06726773828268051,0.0403793528676033,0.3163205087184906,0.43893468379974365,0.1405135840177536,-0.004625910893082619,0.6277856826782227,1.1406644582748413,0.20898142457008362,0.08434536308050156,0.6752516627311707,-2.386796474456787,0.1104159727692604,-0.022959047928452492,0.3478774428367615,0.8694498538970947,0.2777237892150879,0.31912097334861755,0.4216187000274658,0.266722172498703,0.6250202655792236,-0.229486346244812,0.5131193399429321,0.3765890300273895,-0.10302175581455231,0.08041110634803772,-0.14204028248786926,0.18626637756824493,0.4901133179664612,-0.03769148513674736,0.426337867975235,0.46599504351615906,-0.14847572147846222,-0.09684905409812927,0.2522677481174469,-0.04970656335353851,-0.2783181369304657,-0.08058305084705353,-0.00521831214427948,0.7080398797988892,0.2818705141544342,0.07113020867109299,-0.2388470321893692,0.2787996530532837,0.5539329648017883,0.298643559217453,0.3482408821582794,0.019700733944773674,0.3922911286354065,0.31327855587005615,0.5368096232414246,-0.22545947134494781,0.5317831039428711,0.009374016895890236,-0.1574622094631195,0.8033857941627502,0.18223239481449127,0.062224507331848145,0.14048153162002563,0.5657527446746826,1.3380972146987915,0.10839712619781494,0.11856839060783386,0.20995648205280304,-0.17113760113716125,-0.15525123476982117,0.17147882282733917,-0.17345263063907623,0.1974157989025116,0.12883839011192322,0.5624692440032959,-0.23152542114257812,-0.05641813948750496,-0.12330009788274765,-0.2441023588180542,1.0468863248825073,-0.31447339057922363,0.17399774491786957,1.0037105083465576,0.4486013352870941,2.0525832176208496,0.08836422115564346,0.21429525315761566,-0.1290459930896759,0.0871756300330162,0.5050644874572754,0.6123755574226379,0.7919276356697083,-0.16274715960025787,-0.017881162464618683,-0.033533383160829544,0.3459562361240387,0.08062626421451569,-0.23721198737621307,0.06046191230416298,-0.01147589273750782,0.17006707191467285,0.09565041214227676,0.17493972182273865,0.609229564666748,-0.33776891231536865,0.6815823912620544,0.07945580035448074,0.0974811241030693,0.5465408563613892,0.04689453914761543,0.24289005994796753,0.7886942028999329,0.25949445366859436,0.26069751381874084,0.5889226794242859,0.3998105525970459,-0.043419405817985535,0.5824063420295715,0.599992573261261,0.2860488295555115,0.35193344950675964,0.05646669492125511,0.9780784249305725,0.1053355485200882,0.06058763340115547,-0.05438507720828056,-0.26978838443756104,-0.18090733885765076,0.2190271019935608,0.0014171249931678176,-0.17049328982830048,0.335874080657959,0.17107731103897095,0.17171403765678406,0.7246459126472473,0.5005882382392883,1.3832104206085205,0.9698560237884521,0.31592193245887756,-0.20252540707588196,-0.2701660096645355,-0.2525915205478668,-0.029999081045389175,-0.1068974956870079,0.5048141479492188,0.19489791989326477,0.1545453816652298,-0.2053011953830719,-0.0687069520354271,0.021624604240059853,0.024087470024824142,0.172681987285614,null,0.05334792658686638,-0.157466858625412,-0.11536875367164612,-0.33759185671806335,0.44983363151550293,-0.16407257318496704,-0.08023910224437714,-0.19478172063827515,-0.21619178354740143,0.01355790439993143,-0.1406717449426651,0.5411103963851929,0.19220790266990662,null,0.5250102281570435,0.5810739994049072,0.9681821465492249,0.20228637754917145,-0.11486676335334778,0.381104975938797,0.3453982472419739,0.3190115690231323,0.22191859781742096,0.2380138635635376,0.3110560476779938,0.550676167011261,0.8496236801147461,0.5449090600013733,0.04715275019407272,0.2566378116607666,0.27211543917655945,1.0148226022720337,0.22703932225704193,0.1804337054491043,0.3437371850013733,0.45298826694488525,1.2682772874832153,0.5180970430374146,0.011949155479669571,-0.1350763440132141,0.8964099884033203,0.008319909684360027,0.034085121005773544,-0.0738130584359169,0.4363899827003479,-0.008557206019759178],\"yaxis\":\"y\",\"type\":\"scatter\"}],                        {\"template\":{\"data\":{\"histogram2dcontour\":[{\"type\":\"histogram2dcontour\",\"colorbar\":{\"outlinewidth\":0,\"ticks\":\"\"},\"colorscale\":[[0.0,\"#0d0887\"],[0.1111111111111111,\"#46039f\"],[0.2222222222222222,\"#7201a8\"],[0.3333333333333333,\"#9c179e\"],[0.4444444444444444,\"#bd3786\"],[0.5555555555555556,\"#d8576b\"],[0.6666666666666666,\"#ed7953\"],[0.7777777777777778,\"#fb9f3a\"],[0.8888888888888888,\"#fdca26\"],[1.0,\"#f0f921\"]]}],\"choropleth\":[{\"type\":\"choropleth\",\"colorbar\":{\"outlinewidth\":0,\"ticks\":\"\"}}],\"histogram2d\":[{\"type\":\"histogram2d\",\"colorbar\":{\"outlinewidth\":0,\"ticks\":\"\"},\"colorscale\":[[0.0,\"#0d0887\"],[0.1111111111111111,\"#46039f\"],[0.2222222222222222,\"#7201a8\"],[0.3333333333333333,\"#9c179e\"],[0.4444444444444444,\"#bd3786\"],[0.5555555555555556,\"#d8576b\"],[0.6666666666666666,\"#ed7953\"],[0.7777777777777778,\"#fb9f3a\"],[0.8888888888888888,\"#fdca26\"],[1.0,\"#f0f921\"]]}],\"heatmap\":[{\"type\":\"heatmap\",\"colorbar\":{\"outlinewidth\":0,\"ticks\":\"\"},\"colorscale\":[[0.0,\"#0d0887\"],[0.1111111111111111,\"#46039f\"],[0.2222222222222222,\"#7201a8\"],[0.3333333333333333,\"#9c179e\"],[0.4444444444444444,\"#bd3786\"],[0.5555555555555556,\"#d8576b\"],[0.6666666666666666,\"#ed7953\"],[0.7777777777777778,\"#fb9f3a\"],[0.8888888888888888,\"#fdca26\"],[1.0,\"#f0f921\"]]}],\"heatmapgl\":[{\"type\":\"heatmapgl\",\"colorbar\":{\"outlinewidth\":0,\"ticks\":\"\"},\"colorscale\":[[0.0,\"#0d0887\"],[0.1111111111111111,\"#46039f\"],[0.2222222222222222,\"#7201a8\"],[0.3333333333333333,\"#9c179e\"],[0.4444444444444444,\"#bd3786\"],[0.5555555555555556,\"#d8576b\"],[0.6666666666666666,\"#ed7953\"],[0.7777777777777778,\"#fb9f3a\"],[0.8888888888888888,\"#fdca26\"],[1.0,\"#f0f921\"]]}],\"contourcarpet\":[{\"type\":\"contourcarpet\",\"colorbar\":{\"outlinewidth\":0,\"ticks\":\"\"}}],\"contour\":[{\"type\":\"contour\",\"colorbar\":{\"outlinewidth\":0,\"ticks\":\"\"},\"colorscale\":[[0.0,\"#0d0887\"],[0.1111111111111111,\"#46039f\"],[0.2222222222222222,\"#7201a8\"],[0.3333333333333333,\"#9c179e\"],[0.4444444444444444,\"#bd3786\"],[0.5555555555555556,\"#d8576b\"],[0.6666666666666666,\"#ed7953\"],[0.7777777777777778,\"#fb9f3a\"],[0.8888888888888888,\"#fdca26\"],[1.0,\"#f0f921\"]]}],\"surface\":[{\"type\":\"surface\",\"colorbar\":{\"outlinewidth\":0,\"ticks\":\"\"},\"colorscale\":[[0.0,\"#0d0887\"],[0.1111111111111111,\"#46039f\"],[0.2222222222222222,\"#7201a8\"],[0.3333333333333333,\"#9c179e\"],[0.4444444444444444,\"#bd3786\"],[0.5555555555555556,\"#d8576b\"],[0.6666666666666666,\"#ed7953\"],[0.7777777777777778,\"#fb9f3a\"],[0.8888888888888888,\"#fdca26\"],[1.0,\"#f0f921\"]]}],\"mesh3d\":[{\"type\":\"mesh3d\",\"colorbar\":{\"outlinewidth\":0,\"ticks\":\"\"}}],\"scatter\":[{\"fillpattern\":{\"fillmode\":\"overlay\",\"size\":10,\"solidity\":0.2},\"type\":\"scatter\"}],\"parcoords\":[{\"type\":\"parcoords\",\"line\":{\"colorbar\":{\"outlinewidth\":0,\"ticks\":\"\"}}}],\"scatterpolargl\":[{\"type\":\"scatterpolargl\",\"marker\":{\"colorbar\":{\"outlinewidth\":0,\"ticks\":\"\"}}}],\"bar\":[{\"error_x\":{\"color\":\"#2a3f5f\"},\"error_y\":{\"color\":\"#2a3f5f\"},\"marker\":{\"line\":{\"color\":\"#E5ECF6\",\"width\":0.5},\"pattern\":{\"fillmode\":\"overlay\",\"size\":10,\"solidity\":0.2}},\"type\":\"bar\"}],\"scattergeo\":[{\"type\":\"scattergeo\",\"marker\":{\"colorbar\":{\"outlinewidth\":0,\"ticks\":\"\"}}}],\"scatterpolar\":[{\"type\":\"scatterpolar\",\"marker\":{\"colorbar\":{\"outlinewidth\":0,\"ticks\":\"\"}}}],\"histogram\":[{\"marker\":{\"pattern\":{\"fillmode\":\"overlay\",\"size\":10,\"solidity\":0.2}},\"type\":\"histogram\"}],\"scattergl\":[{\"type\":\"scattergl\",\"marker\":{\"colorbar\":{\"outlinewidth\":0,\"ticks\":\"\"}}}],\"scatter3d\":[{\"type\":\"scatter3d\",\"line\":{\"colorbar\":{\"outlinewidth\":0,\"ticks\":\"\"}},\"marker\":{\"colorbar\":{\"outlinewidth\":0,\"ticks\":\"\"}}}],\"scattermapbox\":[{\"type\":\"scattermapbox\",\"marker\":{\"colorbar\":{\"outlinewidth\":0,\"ticks\":\"\"}}}],\"scatterternary\":[{\"type\":\"scatterternary\",\"marker\":{\"colorbar\":{\"outlinewidth\":0,\"ticks\":\"\"}}}],\"scattercarpet\":[{\"type\":\"scattercarpet\",\"marker\":{\"colorbar\":{\"outlinewidth\":0,\"ticks\":\"\"}}}],\"carpet\":[{\"aaxis\":{\"endlinecolor\":\"#2a3f5f\",\"gridcolor\":\"white\",\"linecolor\":\"white\",\"minorgridcolor\":\"white\",\"startlinecolor\":\"#2a3f5f\"},\"baxis\":{\"endlinecolor\":\"#2a3f5f\",\"gridcolor\":\"white\",\"linecolor\":\"white\",\"minorgridcolor\":\"white\",\"startlinecolor\":\"#2a3f5f\"},\"type\":\"carpet\"}],\"table\":[{\"cells\":{\"fill\":{\"color\":\"#EBF0F8\"},\"line\":{\"color\":\"white\"}},\"header\":{\"fill\":{\"color\":\"#C8D4E3\"},\"line\":{\"color\":\"white\"}},\"type\":\"table\"}],\"barpolar\":[{\"marker\":{\"line\":{\"color\":\"#E5ECF6\",\"width\":0.5},\"pattern\":{\"fillmode\":\"overlay\",\"size\":10,\"solidity\":0.2}},\"type\":\"barpolar\"}],\"pie\":[{\"automargin\":true,\"type\":\"pie\"}]},\"layout\":{\"autotypenumbers\":\"strict\",\"colorway\":[\"#636efa\",\"#EF553B\",\"#00cc96\",\"#ab63fa\",\"#FFA15A\",\"#19d3f3\",\"#FF6692\",\"#B6E880\",\"#FF97FF\",\"#FECB52\"],\"font\":{\"color\":\"#2a3f5f\"},\"hovermode\":\"closest\",\"hoverlabel\":{\"align\":\"left\"},\"paper_bgcolor\":\"white\",\"plot_bgcolor\":\"#E5ECF6\",\"polar\":{\"bgcolor\":\"#E5ECF6\",\"angularaxis\":{\"gridcolor\":\"white\",\"linecolor\":\"white\",\"ticks\":\"\"},\"radialaxis\":{\"gridcolor\":\"white\",\"linecolor\":\"white\",\"ticks\":\"\"}},\"ternary\":{\"bgcolor\":\"#E5ECF6\",\"aaxis\":{\"gridcolor\":\"white\",\"linecolor\":\"white\",\"ticks\":\"\"},\"baxis\":{\"gridcolor\":\"white\",\"linecolor\":\"white\",\"ticks\":\"\"},\"caxis\":{\"gridcolor\":\"white\",\"linecolor\":\"white\",\"ticks\":\"\"}},\"coloraxis\":{\"colorbar\":{\"outlinewidth\":0,\"ticks\":\"\"}},\"colorscale\":{\"sequential\":[[0.0,\"#0d0887\"],[0.1111111111111111,\"#46039f\"],[0.2222222222222222,\"#7201a8\"],[0.3333333333333333,\"#9c179e\"],[0.4444444444444444,\"#bd3786\"],[0.5555555555555556,\"#d8576b\"],[0.6666666666666666,\"#ed7953\"],[0.7777777777777778,\"#fb9f3a\"],[0.8888888888888888,\"#fdca26\"],[1.0,\"#f0f921\"]],\"sequentialminus\":[[0.0,\"#0d0887\"],[0.1111111111111111,\"#46039f\"],[0.2222222222222222,\"#7201a8\"],[0.3333333333333333,\"#9c179e\"],[0.4444444444444444,\"#bd3786\"],[0.5555555555555556,\"#d8576b\"],[0.6666666666666666,\"#ed7953\"],[0.7777777777777778,\"#fb9f3a\"],[0.8888888888888888,\"#fdca26\"],[1.0,\"#f0f921\"]],\"diverging\":[[0,\"#8e0152\"],[0.1,\"#c51b7d\"],[0.2,\"#de77ae\"],[0.3,\"#f1b6da\"],[0.4,\"#fde0ef\"],[0.5,\"#f7f7f7\"],[0.6,\"#e6f5d0\"],[0.7,\"#b8e186\"],[0.8,\"#7fbc41\"],[0.9,\"#4d9221\"],[1,\"#276419\"]]},\"xaxis\":{\"gridcolor\":\"white\",\"linecolor\":\"white\",\"ticks\":\"\",\"title\":{\"standoff\":15},\"zerolinecolor\":\"white\",\"automargin\":true,\"zerolinewidth\":2},\"yaxis\":{\"gridcolor\":\"white\",\"linecolor\":\"white\",\"ticks\":\"\",\"title\":{\"standoff\":15},\"zerolinecolor\":\"white\",\"automargin\":true,\"zerolinewidth\":2},\"scene\":{\"xaxis\":{\"backgroundcolor\":\"#E5ECF6\",\"gridcolor\":\"white\",\"linecolor\":\"white\",\"showbackground\":true,\"ticks\":\"\",\"zerolinecolor\":\"white\",\"gridwidth\":2},\"yaxis\":{\"backgroundcolor\":\"#E5ECF6\",\"gridcolor\":\"white\",\"linecolor\":\"white\",\"showbackground\":true,\"ticks\":\"\",\"zerolinecolor\":\"white\",\"gridwidth\":2},\"zaxis\":{\"backgroundcolor\":\"#E5ECF6\",\"gridcolor\":\"white\",\"linecolor\":\"white\",\"showbackground\":true,\"ticks\":\"\",\"zerolinecolor\":\"white\",\"gridwidth\":2}},\"shapedefaults\":{\"line\":{\"color\":\"#2a3f5f\"}},\"annotationdefaults\":{\"arrowcolor\":\"#2a3f5f\",\"arrowhead\":0,\"arrowwidth\":1},\"geo\":{\"bgcolor\":\"white\",\"landcolor\":\"#E5ECF6\",\"subunitcolor\":\"white\",\"showland\":true,\"showlakes\":true,\"lakecolor\":\"white\"},\"title\":{\"x\":0.05},\"mapbox\":{\"style\":\"light\"}}},\"xaxis\":{\"anchor\":\"y\",\"domain\":[0.0,1.0],\"title\":{\"text\":\"patient\"}},\"yaxis\":{\"anchor\":\"x\",\"domain\":[0.0,1.0],\"title\":{\"text\":\"t1c_tumor_median\"}},\"legend\":{\"title\":{\"text\":\"methylation\"},\"tracegroupgap\":0},\"title\":{\"text\":\"t1c tumor median. methylation\"},\"hovermode\":\"x unified\"},                        {\"responsive\": true}                    ).then(function(){\n",
       "                            \n",
       "var gd = document.getElementById('c45667fa-f00d-4cc9-9c38-9c508725c86d');\n",
       "var x = new MutationObserver(function (mutations, observer) {{\n",
       "        var display = window.getComputedStyle(gd).display;\n",
       "        if (!display || display === 'none') {{\n",
       "            console.log([gd, 'removed!']);\n",
       "            Plotly.purge(gd);\n",
       "            observer.disconnect();\n",
       "        }}\n",
       "}});\n",
       "\n",
       "// Listen for the removal of the full notebook cells\n",
       "var notebookContainer = gd.closest('#notebook-container');\n",
       "if (notebookContainer) {{\n",
       "    x.observe(notebookContainer, {childList: true});\n",
       "}}\n",
       "\n",
       "// Listen for the clearing of the current output cell\n",
       "var outputEl = gd.closest('.output');\n",
       "if (outputEl) {{\n",
       "    x.observe(outputEl, {childList: true});\n",
       "}}\n",
       "\n",
       "                        })                };                });            </script>        </div>"
      ]
     },
     "metadata": {},
     "output_type": "display_data"
    }
   ],
   "source": [
    "fig"
   ]
  },
  {
   "cell_type": "code",
   "execution_count": 13,
   "id": "f1375c02",
   "metadata": {},
   "outputs": [
    {
     "data": {
      "text/plain": [
       "1"
      ]
     },
     "execution_count": 13,
     "metadata": {},
     "output_type": "execute_result"
    }
   ],
   "source": [
    "data[\"tum\"].max()"
   ]
  }
 ],
 "metadata": {
  "kernelspec": {
   "display_name": "Python 3 (ipykernel)",
   "language": "python",
   "name": "python3"
  },
  "language_info": {
   "codemirror_mode": {
    "name": "ipython",
    "version": 3
   },
   "file_extension": ".py",
   "mimetype": "text/x-python",
   "name": "python",
   "nbconvert_exporter": "python",
   "pygments_lexer": "ipython3",
   "version": "3.10.10"
  }
 },
 "nbformat": 4,
 "nbformat_minor": 5
}
