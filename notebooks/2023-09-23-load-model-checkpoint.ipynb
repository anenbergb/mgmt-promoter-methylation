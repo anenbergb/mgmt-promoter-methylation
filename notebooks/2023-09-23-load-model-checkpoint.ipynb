{
 "cells": [
  {
   "cell_type": "code",
   "execution_count": 18,
   "id": "7473bd26",
   "metadata": {},
   "outputs": [],
   "source": [
    "from lightning.pytorch.callbacks import ModelCheckpoint\n",
    "from lightning.pytorch import Trainer\n",
    "import os\n",
    "from mgmt.model.model_module import Classifier, ClassifierMultiResolution\n",
    "from mgmt.config import get_cfg\n",
    "\n",
    "import torch"
   ]
  },
  {
   "cell_type": "code",
   "execution_count": 60,
   "id": "1ede6abd",
   "metadata": {},
   "outputs": [],
   "source": [
    "config_path = \"/home/bryan/expr/brain_tumor/2023-09-23/debug/try1/config.yaml\"\n",
    "checkpoint_dir = \"/home/bryan/expr/brain_tumor/2023-09-23/debug/try1/checkpoints\"\n",
    "\n",
    "checkpoint_final_path = os.path.join(checkpoint_dir, \"final\", \"last.ckpt\")"
   ]
  },
  {
   "cell_type": "code",
   "execution_count": 14,
   "id": "90c75073",
   "metadata": {},
   "outputs": [
    {
     "name": "stdout",
     "output_type": "stream",
     "text": [
      "/home/bryan/expr/brain_tumor/2023-09-23/debug/try1/config.yaml\n"
     ]
    }
   ],
   "source": [
    "cfg = get_cfg(config_path)\n",
    "cfg.freeze()"
   ]
  },
  {
   "cell_type": "code",
   "execution_count": 4,
   "id": "d3454b7b",
   "metadata": {},
   "outputs": [],
   "source": [
    "checkpoint_callback = ModelCheckpoint(\n",
    "    dirpath=os.path.join(checkpoint_dir, \"l1\")\n",
    ")"
   ]
  },
  {
   "cell_type": "code",
   "execution_count": 15,
   "id": "7699ce27",
   "metadata": {},
   "outputs": [
    {
     "name": "stderr",
     "output_type": "stream",
     "text": [
      "GPU available: True (cuda), used: True\n",
      "TPU available: False, using: 0 TPU cores\n",
      "IPU available: False, using: 0 IPUs\n",
      "HPU available: False, using: 0 HPUs\n"
     ]
    }
   ],
   "source": [
    "trainer = Trainer(callbacks=[checkpoint_callback])"
   ]
  },
  {
   "cell_type": "code",
   "execution_count": 16,
   "id": "b5fb01c9",
   "metadata": {},
   "outputs": [
    {
     "name": "stderr",
     "output_type": "stream",
     "text": [
      "\u001b[32m2023-09-23 12:42:08.857\u001b[0m | \u001b[1mINFO    \u001b[0m | \u001b[36mmgmt.model.model_module\u001b[0m:\u001b[36m__init__\u001b[0m:\u001b[36m374\u001b[0m - \u001b[1mInitializing LightningModule: ClassifierMultiResolution\u001b[0m\n"
     ]
    }
   ],
   "source": [
    "model = ClassifierMultiResolution(cfg)"
   ]
  },
  {
   "cell_type": "code",
   "execution_count": 61,
   "id": "a57497c2",
   "metadata": {},
   "outputs": [],
   "source": [
    "checkpoint = torch.load(checkpoint_final_path)"
   ]
  },
  {
   "cell_type": "code",
   "execution_count": 62,
   "id": "b7248830",
   "metadata": {},
   "outputs": [
    {
     "data": {
      "text/plain": [
       "odict_keys(['net.backbone.blocks.l1.0.conv.weight', 'net.backbone.blocks.l1.0.adn.N.weight', 'net.backbone.blocks.l1.0.adn.N.bias', 'net.backbone.blocks.l1.1.conv.weight', 'net.backbone.blocks.l1.1.adn.N.weight', 'net.backbone.blocks.l1.1.adn.N.bias', 'net.backbone.blocks.l1.2.conv.weight', 'net.backbone.blocks.l1.2.adn.N.weight', 'net.backbone.blocks.l1.2.adn.N.bias', 'net.backbone.blocks.l1.3.conv.weight', 'net.backbone.blocks.l1.3.adn.N.weight', 'net.backbone.blocks.l1.3.adn.N.bias', 'net.backbone.blocks.l2.0.conv.weight', 'net.backbone.blocks.l2.0.adn.N.weight', 'net.backbone.blocks.l2.0.adn.N.bias', 'net.backbone.blocks.l2.1.conv.weight', 'net.backbone.blocks.l2.1.adn.N.weight', 'net.backbone.blocks.l2.1.adn.N.bias', 'net.backbone.blocks.l2.2.conv.weight', 'net.backbone.blocks.l2.2.adn.N.weight', 'net.backbone.blocks.l2.2.adn.N.bias', 'net.backbone.blocks.l2.3.conv.weight', 'net.backbone.blocks.l2.3.adn.N.weight', 'net.backbone.blocks.l2.3.adn.N.bias', 'net.backbone.blocks.l3.0.conv.weight', 'net.backbone.blocks.l3.0.adn.N.weight', 'net.backbone.blocks.l3.0.adn.N.bias', 'net.backbone.blocks.l3.1.conv.weight', 'net.backbone.blocks.l3.1.adn.N.weight', 'net.backbone.blocks.l3.1.adn.N.bias', 'net.backbone.blocks.l3.2.conv.weight', 'net.backbone.blocks.l3.2.adn.N.weight', 'net.backbone.blocks.l3.2.adn.N.bias', 'net.backbone.blocks.l4.0.conv.weight', 'net.backbone.blocks.l4.0.adn.N.weight', 'net.backbone.blocks.l4.0.adn.N.bias', 'net.backbone.blocks.l4.1.conv.weight', 'net.backbone.blocks.l4.1.adn.N.weight', 'net.backbone.blocks.l4.1.adn.N.bias', 'net.backbone.blocks.l5.0.conv.weight', 'net.backbone.blocks.l5.0.adn.N.weight', 'net.backbone.blocks.l5.0.adn.N.bias', 'net.backbone.blocks.l5.1.conv.weight', 'net.backbone.blocks.l5.1.adn.N.weight', 'net.backbone.blocks.l5.1.adn.N.bias', 'net.heads.l1.1.weight', 'net.heads.l1.1.bias', 'net.heads.l2.1.weight', 'net.heads.l2.1.bias', 'net.heads.l3.1.weight', 'net.heads.l3.1.bias', 'net.heads.l4.1.weight', 'net.heads.l4.1.bias', 'net.heads.l5.1.weight', 'net.heads.l5.1.bias', 'net.heads.final.1.weight', 'net.heads.final.1.bias'])"
      ]
     },
     "execution_count": 62,
     "metadata": {},
     "output_type": "execute_result"
    }
   ],
   "source": [
    "checkpoint[\"state_dict\"].keys()"
   ]
  },
  {
   "cell_type": "code",
   "execution_count": 63,
   "id": "333a40ff",
   "metadata": {},
   "outputs": [
    {
     "name": "stderr",
     "output_type": "stream",
     "text": [
      "\u001b[32m2023-09-23 12:57:34.475\u001b[0m | \u001b[1mINFO    \u001b[0m | \u001b[36mmgmt.model.model_module\u001b[0m:\u001b[36m__init__\u001b[0m:\u001b[36m374\u001b[0m - \u001b[1mInitializing LightningModule: ClassifierMultiResolution\u001b[0m\n"
     ]
    }
   ],
   "source": [
    "model = ClassifierMultiResolution.load_from_checkpoint(checkpoint_final_path, cfg=cfg)"
   ]
  },
  {
   "cell_type": "code",
   "execution_count": 64,
   "id": "86074a59",
   "metadata": {},
   "outputs": [],
   "source": [
    "model_weights = model.net.backbone.blocks[\"l1\"][0].conv.weight.detach().cpu()"
   ]
  },
  {
   "cell_type": "code",
   "execution_count": 65,
   "id": "9963dec1",
   "metadata": {},
   "outputs": [],
   "source": [
    "check_weights = checkpoint[\"state_dict\"][\"net.backbone.blocks.l1.0.conv.weight\"].detach().cpu()"
   ]
  },
  {
   "cell_type": "code",
   "execution_count": 68,
   "id": "ba9ef3b1",
   "metadata": {},
   "outputs": [
    {
     "data": {
      "text/plain": [
       "True"
      ]
     },
     "execution_count": 68,
     "metadata": {},
     "output_type": "execute_result"
    }
   ],
   "source": [
    "torch.allclose(model_weights, check_weights)"
   ]
  },
  {
   "cell_type": "code",
   "execution_count": null,
   "id": "0cbf24ef",
   "metadata": {},
   "outputs": [],
   "source": []
  }
 ],
 "metadata": {
  "kernelspec": {
   "display_name": "Python [conda env:mgmt]",
   "language": "python",
   "name": "conda-env-mgmt-py"
  },
  "language_info": {
   "codemirror_mode": {
    "name": "ipython",
    "version": 3
   },
   "file_extension": ".py",
   "mimetype": "text/x-python",
   "name": "python",
   "nbconvert_exporter": "python",
   "pygments_lexer": "ipython3",
   "version": "3.10.10"
  }
 },
 "nbformat": 4,
 "nbformat_minor": 5
}
