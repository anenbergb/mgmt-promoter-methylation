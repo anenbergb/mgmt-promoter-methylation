{
 "cells": [
  {
   "cell_type": "code",
   "execution_count": 91,
   "id": "89bfdccf",
   "metadata": {},
   "outputs": [
    {
     "name": "stdout",
     "output_type": "stream",
     "text": [
      "The autoreload extension is already loaded. To reload it, use:\n",
      "  %reload_ext autoreload\n"
     ]
    }
   ],
   "source": [
    "from mgmt.data.pickle import load_subject_pickles\n",
    "import torch\n",
    "import sklearn\n",
    "\n",
    "%load_ext autoreload\n",
    "%autoreload 2\n",
    "\n",
    "from collections import defaultdict\n",
    "\n",
    "from sklearn.model_selection import StratifiedKFold, KFold\n",
    "import numpy as np\n",
    "import math\n",
    "from loguru import logger"
   ]
  },
  {
   "cell_type": "code",
   "execution_count": 4,
   "id": "14166e55",
   "metadata": {},
   "outputs": [
    {
     "name": "stderr",
     "output_type": "stream",
     "text": [
      "loading subjects from pickles: 100%|█████████████████████████████████████████████████████████████████████████████████████████████████████████████████████████| 653/653 [00:03<00:00, 164.73it/s]\n"
     ]
    }
   ],
   "source": [
    "subjects = load_subject_pickles(\n",
    "    \"/home/bryan/expr/brain_tumor/preprocess-subjects-v2/resample-2.0-crop-64\",\n",
    ")"
   ]
  },
  {
   "cell_type": "code",
   "execution_count": 5,
   "id": "b2479b5c",
   "metadata": {},
   "outputs": [],
   "source": [
    "generator = torch.Generator().manual_seed(1)"
   ]
  },
  {
   "cell_type": "code",
   "execution_count": null,
   "id": "d2b5861d",
   "metadata": {},
   "outputs": [],
   "source": [
    "train_test_val_ratio = (0.60, 0.15, 0.25)"
   ]
  },
  {
   "cell_type": "code",
   "execution_count": null,
   "id": "8501e334",
   "metadata": {},
   "outputs": [],
   "source": [
    "train_subjects, val_subjects = subjects_train_val_split(\n",
    "    subjects, self.cfg.DATA.TRAIN_VAL_RATIO, generator)"
   ]
  },
  {
   "cell_type": "code",
   "execution_count": 16,
   "id": "6b983c1a",
   "metadata": {},
   "outputs": [],
   "source": [
    "class_counts = defaultdict(int)\n",
    "for subject in subjects:\n",
    "    if subject.train_test_split == \"train\":\n",
    "        class_counts[subject.category] += 1"
   ]
  },
  {
   "cell_type": "code",
   "execution_count": 17,
   "id": "fd64d03e",
   "metadata": {},
   "outputs": [
    {
     "data": {
      "text/plain": [
       "defaultdict(int, {'methylated': 301, 'unmethylated': 276})"
      ]
     },
     "execution_count": 17,
     "metadata": {},
     "output_type": "execute_result"
    }
   ],
   "source": [
    "class_counts"
   ]
  },
  {
   "cell_type": "code",
   "execution_count": 20,
   "id": "e096232d",
   "metadata": {},
   "outputs": [],
   "source": [
    "train_subjects = [x for x in subjects if x.train_test_split == \"train\"]"
   ]
  },
  {
   "cell_type": "code",
   "execution_count": 24,
   "id": "664571e8",
   "metadata": {},
   "outputs": [],
   "source": [
    "indices = np.arange(len(train_subjects))\n",
    "category_ids = np.array([x.category_id for x in train_subjects])"
   ]
  },
  {
   "cell_type": "code",
   "execution_count": 106,
   "id": "ac2d90bc",
   "metadata": {},
   "outputs": [],
   "source": [
    "np.random.seed(1)\n",
    "skf = StratifiedKFold(n_splits = 3, shuffle = True, random_state = 10)"
   ]
  },
  {
   "cell_type": "code",
   "execution_count": 108,
   "id": "0882dbfe",
   "metadata": {},
   "outputs": [],
   "source": [
    "np.random.seed(2)\n",
    "skf2 = StratifiedKFold(n_splits = 3, shuffle = True, random_state = 10)"
   ]
  },
  {
   "cell_type": "code",
   "execution_count": 33,
   "id": "e0b97743",
   "metadata": {},
   "outputs": [],
   "source": [
    "# for i, (train_index, test_index) in enumerate(skf.split(indices, category_ids)):\n",
    "#     print(f\"Fold {i}:\")\n",
    "#     print(f\"  Train: index={train_index}\")\n",
    "#     print(f\"  Test:  index={test_index}\")"
   ]
  },
  {
   "cell_type": "code",
   "execution_count": 107,
   "id": "f8fb56a1",
   "metadata": {},
   "outputs": [],
   "source": [
    "train_fold, test_fold = next(skf.split(indices, category_ids))"
   ]
  },
  {
   "cell_type": "code",
   "execution_count": 109,
   "id": "2076fc52",
   "metadata": {},
   "outputs": [],
   "source": [
    "train_fold2, test_fold2 = next(skf2.split(indices, category_ids))"
   ]
  },
  {
   "cell_type": "code",
   "execution_count": 48,
   "id": "47a7553c",
   "metadata": {},
   "outputs": [
    {
     "data": {
      "text/plain": [
       "array([1, 0, 0, 1, 1, 0, 1, 1, 0, 0, 0, 1, 0, 1, 1, 1, 1, 0, 1, 0, 1, 1,\n",
       "       1, 1, 1, 1, 1, 1, 1, 1, 1, 0, 1, 1, 0, 0, 1, 0, 0, 1, 1, 0, 1, 1,\n",
       "       0, 1, 1, 1, 1, 0, 1, 0, 0, 0, 1, 0, 1, 0, 0, 0, 0, 0, 0, 0, 1, 1,\n",
       "       0, 0, 1, 1, 1, 1, 1, 1, 1, 1, 1, 1, 0, 0, 0, 0, 0, 0, 0, 1, 1, 0,\n",
       "       1, 0, 1, 0, 1, 1, 0, 1, 1, 1, 0, 1, 1, 0, 0, 1, 1, 1, 1, 1, 1, 1,\n",
       "       0, 1, 0, 0, 1, 0, 0, 1, 0, 1, 0, 0, 1, 1, 0, 1, 0, 1, 0, 1, 1, 0,\n",
       "       0, 0, 1, 0, 1, 0, 0, 1, 1, 1, 0, 1, 0, 0, 1, 1, 1, 0, 0, 0, 0, 0,\n",
       "       1, 1, 1, 0, 1, 1, 1, 0, 0, 0, 0, 0, 1, 0, 1, 0, 1, 0, 1, 1, 1, 1,\n",
       "       0, 0, 1, 0, 1, 1, 0, 0, 0, 0, 0, 0, 0, 1, 0, 1, 1, 0, 0, 0, 0, 1,\n",
       "       0, 0, 0, 0, 0, 1, 0, 0, 0, 0, 1, 1, 1, 1, 1, 1, 1, 0, 1, 1, 1, 1,\n",
       "       1, 1, 0, 0, 1, 1, 0, 1, 1, 0, 0, 0, 1, 0, 0, 1, 1, 0, 1, 1, 1, 0,\n",
       "       0, 0, 1, 0, 0, 1, 0, 1, 0, 1, 1, 1, 0, 1, 1, 0, 0, 0, 1, 0, 0, 1,\n",
       "       1, 1, 0, 1, 1, 1, 0, 0, 1, 0, 1, 0, 0, 1, 0, 1, 1, 1, 1, 1, 0, 1,\n",
       "       0, 1, 0, 0, 0, 0, 1, 1, 0, 1, 0, 1, 1, 0, 0, 1, 1, 1, 1, 1, 1, 1,\n",
       "       1, 0, 1, 1, 0, 0, 0, 1, 0, 1, 1, 1, 1, 1, 1, 1, 0, 1, 0, 0, 0, 0,\n",
       "       0, 1, 1, 0, 1, 0, 1, 1, 0, 0, 1, 0, 0, 1, 0, 0, 0, 1, 0, 0, 0, 1,\n",
       "       1, 0, 1, 1, 0, 1, 1, 0, 0, 0, 1, 1, 0, 0, 0, 0, 0, 0, 0, 1, 0, 0,\n",
       "       0, 1, 1, 1, 0, 0, 0, 0, 1, 1])"
      ]
     },
     "execution_count": 48,
     "metadata": {},
     "output_type": "execute_result"
    }
   ],
   "source": [
    "category_ids[train_fold]"
   ]
  },
  {
   "cell_type": "code",
   "execution_count": 57,
   "id": "41990afa",
   "metadata": {},
   "outputs": [],
   "source": [
    "def get_class_counts(selected_indices, category_ids):    \n",
    "    sel_category_ids = category_ids[selected_indices]\n",
    "    num_methyl = np.sum(sel_category_ids)\n",
    "    num_unmethyl = len(sel_category_ids) - num_methyl\n",
    "    methyl_perc = 100 * num_methyl / len(sel_category_ids)\n",
    "    print(f\"Methylated: {num_methyl} ({methyl_perc:.2f}%), unmethylated: {num_unmethyl}\")"
   ]
  },
  {
   "cell_type": "code",
   "execution_count": 101,
   "id": "e49f5518",
   "metadata": {},
   "outputs": [
    {
     "data": {
      "text/plain": [
       "577"
      ]
     },
     "execution_count": 101,
     "metadata": {},
     "output_type": "execute_result"
    }
   ],
   "source": [
    "len(category_ids)"
   ]
  },
  {
   "cell_type": "code",
   "execution_count": 58,
   "id": "ff112fba",
   "metadata": {},
   "outputs": [
    {
     "name": "stdout",
     "output_type": "stream",
     "text": [
      "Methylated: 301 (52.17%), unmethylated: 276\n"
     ]
    }
   ],
   "source": [
    "get_class_counts(np.arange(len(category_ids)), category_ids)"
   ]
  },
  {
   "cell_type": "code",
   "execution_count": 56,
   "id": "fd4ad020",
   "metadata": {},
   "outputs": [
    {
     "name": "stdout",
     "output_type": "stream",
     "text": [
      "Methylated: 200 (52.08%), unmethylated: 184\n"
     ]
    }
   ],
   "source": [
    "get_class_counts(train_fold, category_ids)"
   ]
  },
  {
   "cell_type": "code",
   "execution_count": 59,
   "id": "6058cb48",
   "metadata": {},
   "outputs": [],
   "source": [
    "# wrapper around kfold where I specify the number of percentage of dataset\n",
    "# for validation set, -> then determine the number of folds -> \n",
    "# then select the fold index"
   ]
  },
  {
   "cell_type": "code",
   "execution_count": 60,
   "id": "13450c3e",
   "metadata": {},
   "outputs": [
    {
     "data": {
      "text/plain": [
       "<generator object _BaseKFold.split at 0x7f3033c49d20>"
      ]
     },
     "execution_count": 60,
     "metadata": {},
     "output_type": "execute_result"
    }
   ],
   "source": [
    "skf.split(indices, category_ids)"
   ]
  },
  {
   "cell_type": "code",
   "execution_count": 98,
   "id": "f062095d",
   "metadata": {},
   "outputs": [],
   "source": [
    "def kfold_train_val_split(subjects, val_ratio = 0.20, fold_index = 0, random_state = 1):\n",
    "    k_folds = math.floor(1 / val_ratio)\n",
    "    if fold_index > k_folds:\n",
    "        logger.warning(f\"Kfold index({fold_index}) > # Folds ({k_folds})\")\n",
    "    fold_index = fold_index % k_folds\n",
    "    skf = StratifiedKFold(n_splits = k_folds, shuffle = True, random_state = 1)\n",
    "    indices = np.arange(len(subjects))\n",
    "    category_ids = np.array([x.category_id for x in subjects])\n",
    "    skf_splits = list(skf.split(indices, category_ids))\n",
    "    train_indices, val_indices = skf_splits[fold_index]\n",
    "    train_subjects = [subjects[i] for i in train_indices]\n",
    "    val_subjects = [subjects[i] for i in val_indices]\n",
    "    return train_subjects, val_subjects"
   ]
  },
  {
   "cell_type": "code",
   "execution_count": 99,
   "id": "9bad052e",
   "metadata": {},
   "outputs": [],
   "source": [
    "train_sub, val_sub = kfold_train_val_split(train_subjects)"
   ]
  },
  {
   "cell_type": "code",
   "execution_count": 103,
   "id": "c4748818",
   "metadata": {},
   "outputs": [],
   "source": [
    "indices = np.arange(len(train_subjects))\n",
    "category_ids = np.array([x.category_id for x in train_subjects])"
   ]
  },
  {
   "cell_type": "code",
   "execution_count": 104,
   "id": "b0a8e6d8",
   "metadata": {},
   "outputs": [],
   "source": [
    "np.random.seed(10)"
   ]
  },
  {
   "cell_type": "code",
   "execution_count": 111,
   "id": "ff8bf319",
   "metadata": {},
   "outputs": [],
   "source": [
    "\n",
    "indices = np.arange(10)\n",
    "np.random.shuffle(indices)"
   ]
  },
  {
   "cell_type": "code",
   "execution_count": 113,
   "id": "90185714",
   "metadata": {},
   "outputs": [],
   "source": [
    "np.random.shuffle?"
   ]
  },
  {
   "cell_type": "code",
   "execution_count": 116,
   "id": "4e3276e5",
   "metadata": {},
   "outputs": [
    {
     "data": {
      "text/plain": [
       "'train'"
      ]
     },
     "execution_count": 116,
     "metadata": {},
     "output_type": "execute_result"
    }
   ],
   "source": [
    "subjects[0].get(\"train_test_split\")"
   ]
  },
  {
   "cell_type": "code",
   "execution_count": 119,
   "id": "8d470b46",
   "metadata": {},
   "outputs": [
    {
     "data": {
      "text/plain": [
       "0.23529411764705882"
      ]
     },
     "execution_count": 119,
     "metadata": {},
     "output_type": "execute_result"
    }
   ],
   "source": [
    "N = 500\n",
    "K = 425\n",
    "0.2 * N / K"
   ]
  },
  {
   "cell_type": "code",
   "execution_count": 120,
   "id": "7c7bbc7a",
   "metadata": {},
   "outputs": [
    {
     "data": {
      "text/plain": [
       "0.6377816291161178"
      ]
     },
     "execution_count": 120,
     "metadata": {},
     "output_type": "execute_result"
    }
   ],
   "source": [
    "368 / 577"
   ]
  },
  {
   "cell_type": "code",
   "execution_count": 121,
   "id": "7f103053",
   "metadata": {},
   "outputs": [
    {
     "data": {
      "text/plain": [
       "0.14904679376083188"
      ]
     },
     "execution_count": 121,
     "metadata": {},
     "output_type": "execute_result"
    }
   ],
   "source": [
    "86 / 577"
   ]
  },
  {
   "cell_type": "code",
   "execution_count": 122,
   "id": "76260043",
   "metadata": {},
   "outputs": [
    {
     "data": {
      "text/plain": [
       "0.2097053726169844"
      ]
     },
     "execution_count": 122,
     "metadata": {},
     "output_type": "execute_result"
    }
   ],
   "source": [
    "121 / 577"
   ]
  },
  {
   "cell_type": "code",
   "execution_count": null,
   "id": "12af497a",
   "metadata": {},
   "outputs": [],
   "source": []
  }
 ],
 "metadata": {
  "kernelspec": {
   "display_name": "Python [conda env:mgmt]",
   "language": "python",
   "name": "conda-env-mgmt-py"
  },
  "language_info": {
   "codemirror_mode": {
    "name": "ipython",
    "version": 3
   },
   "file_extension": ".py",
   "mimetype": "text/x-python",
   "name": "python",
   "nbconvert_exporter": "python",
   "pygments_lexer": "ipython3",
   "version": "3.10.10"
  }
 },
 "nbformat": 4,
 "nbformat_minor": 5
}
