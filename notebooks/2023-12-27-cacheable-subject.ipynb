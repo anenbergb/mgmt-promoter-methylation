{
 "cells": [
  {
   "cell_type": "code",
   "execution_count": 1,
   "id": "25fc7152",
   "metadata": {},
   "outputs": [],
   "source": [
    "import torch\n",
    "import torchio as tio\n",
    "import pickle\n",
    "from mgmt.data.pickle import subject_remove_paths\n",
    "import os"
   ]
  },
  {
   "cell_type": "code",
   "execution_count": 2,
   "id": "745f669c",
   "metadata": {},
   "outputs": [],
   "source": [
    "subject_pkl = \"/home/ubuntu/storage/radiology-research-west-2/expr/brain_tumor/preprocess-subjects-v2/resample-2.0-crop-64/P-00003.pkl\"\n",
    "\n",
    "def load_subject(fpath):\n",
    "    with open(fpath, \"rb\") as f:\n",
    "        subject = pickle.load(f)\n",
    "    subject = subject_remove_paths(subject)\n",
    "    return subject"
   ]
  },
  {
   "cell_type": "code",
   "execution_count": 3,
   "id": "d2d1ff65",
   "metadata": {},
   "outputs": [],
   "source": [
    "subject = load_subject(subject_pkl)"
   ]
  },
  {
   "cell_type": "code",
   "execution_count": 14,
   "id": "687ed017",
   "metadata": {},
   "outputs": [],
   "source": [
    "cache_dir = \"/home/ubuntu/storage/cache_dir\"\n",
    "\n",
    "class CacheableSubject(tio.Subject):\n",
    "    def __init__(self, *args, **kwargs):\n",
    "        cache_dir = kwargs.pop(\"cache_dir\") \n",
    "        super().__init__(**kwargs)\n",
    "        self.cache_path = os.path.join(cache_dir, self.patient_id_str)\n",
    "        self.cached = False\n",
    "    \n",
    "    @classmethod\n",
    "    def from_subject(cls, subject: tio.Subject, cache_dir: str = \"\"):\n",
    "        return CacheableSubject(cache_dir=cache_dir, **dict(subject.items()))\n",
    "    \n",
    "    def cache(self):\n",
    "        images = self.get_images_dict(intensity_only=False)\n",
    "        with open(self.cache_path, \"wb\") as f:\n",
    "            pickle.dump(images, f)\n",
    "        for name in images.keys():\n",
    "            self.remove_image(name)\n",
    "        self.cached = True\n",
    "    \n",
    "    def load_cache(self):\n",
    "        with open(self.cache_path, \"rb\") as f:\n",
    "            images = pickle.load(f)\n",
    "        for name, image in images.items():\n",
    "            self.add_image(image, name)\n",
    "        self.cached = False\n",
    "    \n",
    "    def load(self):\n",
    "        if self.cached:\n",
    "            self.load_cache()\n",
    "        else:\n",
    "            super().load()"
   ]
  },
  {
   "cell_type": "code",
   "execution_count": 15,
   "id": "88ddcb59",
   "metadata": {},
   "outputs": [],
   "source": [
    "cache_subject = CacheableSubject.from_subject(subject)"
   ]
  },
  {
   "cell_type": "code",
   "execution_count": 16,
   "id": "79d9fb7a",
   "metadata": {},
   "outputs": [],
   "source": [
    "dataset = tio.SubjectsDataset([cache_subject])"
   ]
  },
  {
   "cell_type": "code",
   "execution_count": 17,
   "id": "2f041d68",
   "metadata": {},
   "outputs": [
    {
     "name": "stdout",
     "output_type": "stream",
     "text": [
      "> \u001b[0;32m/tmp/ipykernel_3766/1688838116.py\u001b[0m(35)\u001b[0;36mload\u001b[0;34m()\u001b[0m\n",
      "\u001b[0;32m     33 \u001b[0;31m            \u001b[0;32mimport\u001b[0m \u001b[0mipdb\u001b[0m\u001b[0;34m\u001b[0m\u001b[0;34m\u001b[0m\u001b[0m\n",
      "\u001b[0m\u001b[0;32m     34 \u001b[0;31m            \u001b[0mipdb\u001b[0m\u001b[0;34m.\u001b[0m\u001b[0mset_trace\u001b[0m\u001b[0;34m(\u001b[0m\u001b[0;34m)\u001b[0m\u001b[0;34m\u001b[0m\u001b[0;34m\u001b[0m\u001b[0m\n",
      "\u001b[0m\u001b[0;32m---> 35 \u001b[0;31m            \u001b[0msuper\u001b[0m\u001b[0;34m(\u001b[0m\u001b[0;34m)\u001b[0m\u001b[0;34m.\u001b[0m\u001b[0mload\u001b[0m\u001b[0;34m(\u001b[0m\u001b[0;34m)\u001b[0m\u001b[0;34m\u001b[0m\u001b[0;34m\u001b[0m\u001b[0m\n",
      "\u001b[0m\n",
      "ipdb> s\n",
      "--Call--\n",
      "> \u001b[0;32m/home/ubuntu/miniconda3/envs/mgmt/lib/python3.10/site-packages/torchio/data/subject.py\u001b[0m(361)\u001b[0;36mload\u001b[0;34m()\u001b[0m\n",
      "\u001b[0;32m    360 \u001b[0;31m\u001b[0;34m\u001b[0m\u001b[0m\n",
      "\u001b[0m\u001b[0;32m--> 361 \u001b[0;31m    \u001b[0;32mdef\u001b[0m \u001b[0mload\u001b[0m\u001b[0;34m(\u001b[0m\u001b[0mself\u001b[0m\u001b[0;34m)\u001b[0m \u001b[0;34m->\u001b[0m \u001b[0;32mNone\u001b[0m\u001b[0;34m:\u001b[0m\u001b[0;34m\u001b[0m\u001b[0;34m\u001b[0m\u001b[0m\n",
      "\u001b[0m\u001b[0;32m    362 \u001b[0;31m        \u001b[0;34m\"\"\"Load images in subject on RAM.\"\"\"\u001b[0m\u001b[0;34m\u001b[0m\u001b[0;34m\u001b[0m\u001b[0m\n",
      "\u001b[0m\n",
      "ipdb> n\n",
      "> \u001b[0;32m/home/ubuntu/miniconda3/envs/mgmt/lib/python3.10/site-packages/torchio/data/subject.py\u001b[0m(363)\u001b[0;36mload\u001b[0;34m()\u001b[0m\n",
      "\u001b[0;32m    362 \u001b[0;31m        \u001b[0;34m\"\"\"Load images in subject on RAM.\"\"\"\u001b[0m\u001b[0;34m\u001b[0m\u001b[0;34m\u001b[0m\u001b[0m\n",
      "\u001b[0m\u001b[0;32m--> 363 \u001b[0;31m        \u001b[0;32mfor\u001b[0m \u001b[0mimage\u001b[0m \u001b[0;32min\u001b[0m \u001b[0mself\u001b[0m\u001b[0;34m.\u001b[0m\u001b[0mget_images\u001b[0m\u001b[0;34m(\u001b[0m\u001b[0mintensity_only\u001b[0m\u001b[0;34m=\u001b[0m\u001b[0;32mFalse\u001b[0m\u001b[0;34m)\u001b[0m\u001b[0;34m:\u001b[0m\u001b[0;34m\u001b[0m\u001b[0;34m\u001b[0m\u001b[0m\n",
      "\u001b[0m\u001b[0;32m    364 \u001b[0;31m            \u001b[0mimage\u001b[0m\u001b[0;34m.\u001b[0m\u001b[0mload\u001b[0m\u001b[0;34m(\u001b[0m\u001b[0;34m)\u001b[0m\u001b[0;34m\u001b[0m\u001b[0;34m\u001b[0m\u001b[0m\n",
      "\u001b[0m\n",
      "ipdb> n\n",
      "> \u001b[0;32m/home/ubuntu/miniconda3/envs/mgmt/lib/python3.10/site-packages/torchio/data/subject.py\u001b[0m(364)\u001b[0;36mload\u001b[0;34m()\u001b[0m\n",
      "\u001b[0;32m    363 \u001b[0;31m        \u001b[0;32mfor\u001b[0m \u001b[0mimage\u001b[0m \u001b[0;32min\u001b[0m \u001b[0mself\u001b[0m\u001b[0;34m.\u001b[0m\u001b[0mget_images\u001b[0m\u001b[0;34m(\u001b[0m\u001b[0mintensity_only\u001b[0m\u001b[0;34m=\u001b[0m\u001b[0;32mFalse\u001b[0m\u001b[0;34m)\u001b[0m\u001b[0;34m:\u001b[0m\u001b[0;34m\u001b[0m\u001b[0;34m\u001b[0m\u001b[0m\n",
      "\u001b[0m\u001b[0;32m--> 364 \u001b[0;31m            \u001b[0mimage\u001b[0m\u001b[0;34m.\u001b[0m\u001b[0mload\u001b[0m\u001b[0;34m(\u001b[0m\u001b[0;34m)\u001b[0m\u001b[0;34m\u001b[0m\u001b[0;34m\u001b[0m\u001b[0m\n",
      "\u001b[0m\u001b[0;32m    365 \u001b[0;31m\u001b[0;34m\u001b[0m\u001b[0m\n",
      "\u001b[0m\n",
      "ipdb> image\n",
      "LabelMap(shape: (1, 70, 89, 69); spacing: (2.00, 2.00, 2.00); orientation: RAS+; dtype: torch.ByteTensor; memory: 419.8 KiB)\n",
      "ipdb> n\n",
      "> \u001b[0;32m/home/ubuntu/miniconda3/envs/mgmt/lib/python3.10/site-packages/torchio/data/subject.py\u001b[0m(363)\u001b[0;36mload\u001b[0;34m()\u001b[0m\n",
      "\u001b[0;32m    362 \u001b[0;31m        \u001b[0;34m\"\"\"Load images in subject on RAM.\"\"\"\u001b[0m\u001b[0;34m\u001b[0m\u001b[0;34m\u001b[0m\u001b[0m\n",
      "\u001b[0m\u001b[0;32m--> 363 \u001b[0;31m        \u001b[0;32mfor\u001b[0m \u001b[0mimage\u001b[0m \u001b[0;32min\u001b[0m \u001b[0mself\u001b[0m\u001b[0;34m.\u001b[0m\u001b[0mget_images\u001b[0m\u001b[0;34m(\u001b[0m\u001b[0mintensity_only\u001b[0m\u001b[0;34m=\u001b[0m\u001b[0;32mFalse\u001b[0m\u001b[0;34m)\u001b[0m\u001b[0;34m:\u001b[0m\u001b[0;34m\u001b[0m\u001b[0;34m\u001b[0m\u001b[0m\n",
      "\u001b[0m\u001b[0;32m    364 \u001b[0;31m            \u001b[0mimage\u001b[0m\u001b[0;34m.\u001b[0m\u001b[0mload\u001b[0m\u001b[0;34m(\u001b[0m\u001b[0;34m)\u001b[0m\u001b[0;34m\u001b[0m\u001b[0;34m\u001b[0m\u001b[0m\n",
      "\u001b[0m\n",
      "ipdb> n\n",
      "> \u001b[0;32m/home/ubuntu/miniconda3/envs/mgmt/lib/python3.10/site-packages/torchio/data/subject.py\u001b[0m(364)\u001b[0;36mload\u001b[0;34m()\u001b[0m\n",
      "\u001b[0;32m    363 \u001b[0;31m        \u001b[0;32mfor\u001b[0m \u001b[0mimage\u001b[0m \u001b[0;32min\u001b[0m \u001b[0mself\u001b[0m\u001b[0;34m.\u001b[0m\u001b[0mget_images\u001b[0m\u001b[0;34m(\u001b[0m\u001b[0mintensity_only\u001b[0m\u001b[0;34m=\u001b[0m\u001b[0;32mFalse\u001b[0m\u001b[0;34m)\u001b[0m\u001b[0;34m:\u001b[0m\u001b[0;34m\u001b[0m\u001b[0;34m\u001b[0m\u001b[0m\n",
      "\u001b[0m\u001b[0;32m--> 364 \u001b[0;31m            \u001b[0mimage\u001b[0m\u001b[0;34m.\u001b[0m\u001b[0mload\u001b[0m\u001b[0;34m(\u001b[0m\u001b[0;34m)\u001b[0m\u001b[0;34m\u001b[0m\u001b[0;34m\u001b[0m\u001b[0m\n",
      "\u001b[0m\u001b[0;32m    365 \u001b[0;31m\u001b[0;34m\u001b[0m\u001b[0m\n",
      "\u001b[0m\n",
      "ipdb> s\n",
      "--Call--\n",
      "> \u001b[0;32m/home/ubuntu/miniconda3/envs/mgmt/lib/python3.10/site-packages/torchio/data/image.py\u001b[0m(536)\u001b[0;36mload\u001b[0;34m()\u001b[0m\n",
      "\u001b[0;32m    535 \u001b[0;31m\u001b[0;34m\u001b[0m\u001b[0m\n",
      "\u001b[0m\u001b[0;32m--> 536 \u001b[0;31m    \u001b[0;32mdef\u001b[0m \u001b[0mload\u001b[0m\u001b[0;34m(\u001b[0m\u001b[0mself\u001b[0m\u001b[0;34m)\u001b[0m \u001b[0;34m->\u001b[0m \u001b[0;32mNone\u001b[0m\u001b[0;34m:\u001b[0m\u001b[0;34m\u001b[0m\u001b[0;34m\u001b[0m\u001b[0m\n",
      "\u001b[0m\u001b[0;32m    537 \u001b[0;31m        r\"\"\"Load the image from disk.\n",
      "\u001b[0m\n",
      "ipdb> n\n",
      "> \u001b[0;32m/home/ubuntu/miniconda3/envs/mgmt/lib/python3.10/site-packages/torchio/data/image.py\u001b[0m(544)\u001b[0;36mload\u001b[0;34m()\u001b[0m\n",
      "\u001b[0;32m    543 \u001b[0;31m        \"\"\"\n",
      "\u001b[0m\u001b[0;32m--> 544 \u001b[0;31m        \u001b[0;32mif\u001b[0m \u001b[0mself\u001b[0m\u001b[0;34m.\u001b[0m\u001b[0m_loaded\u001b[0m\u001b[0;34m:\u001b[0m\u001b[0;34m\u001b[0m\u001b[0;34m\u001b[0m\u001b[0m\n",
      "\u001b[0m\u001b[0;32m    545 \u001b[0;31m            \u001b[0;32mreturn\u001b[0m\u001b[0;34m\u001b[0m\u001b[0;34m\u001b[0m\u001b[0m\n",
      "\u001b[0m\n",
      "ipdb> self._loaded\n",
      "True\n",
      "ipdb> q\n"
     ]
    }
   ],
   "source": [
    "dataset[0]"
   ]
  },
  {
   "cell_type": "code",
   "execution_count": null,
   "id": "7a93a4ac",
   "metadata": {},
   "outputs": [],
   "source": [
    "cache_subject.cache()"
   ]
  },
  {
   "cell_type": "code",
   "execution_count": null,
   "id": "6bf48030",
   "metadata": {},
   "outputs": [],
   "source": [
    "cache_subject"
   ]
  },
  {
   "cell_type": "code",
   "execution_count": null,
   "id": "6c633a83",
   "metadata": {},
   "outputs": [],
   "source": [
    "cache_subject.load_cache()"
   ]
  },
  {
   "cell_type": "code",
   "execution_count": null,
   "id": "ee40eb2c",
   "metadata": {},
   "outputs": [],
   "source": [
    "cache_subject"
   ]
  },
  {
   "cell_type": "code",
   "execution_count": 18,
   "id": "ed47d6cc",
   "metadata": {},
   "outputs": [
    {
     "data": {
      "text/plain": [
       "480"
      ]
     },
     "execution_count": 18,
     "metadata": {},
     "output_type": "execute_result"
    }
   ],
   "source": [
    "48*10"
   ]
  },
  {
   "cell_type": "code",
   "execution_count": 19,
   "id": "2dcf604e",
   "metadata": {},
   "outputs": [
    {
     "data": {
      "text/plain": [
       "200"
      ]
     },
     "execution_count": 19,
     "metadata": {},
     "output_type": "execute_result"
    }
   ],
   "source": [
    "40*5"
   ]
  },
  {
   "cell_type": "code",
   "execution_count": null,
   "id": "5ab8dc8b",
   "metadata": {},
   "outputs": [],
   "source": []
  }
 ],
 "metadata": {
  "kernelspec": {
   "display_name": "Python 3 (ipykernel)",
   "language": "python",
   "name": "python3"
  },
  "language_info": {
   "codemirror_mode": {
    "name": "ipython",
    "version": 3
   },
   "file_extension": ".py",
   "mimetype": "text/x-python",
   "name": "python",
   "nbconvert_exporter": "python",
   "pygments_lexer": "ipython3",
   "version": "3.10.13"
  }
 },
 "nbformat": 4,
 "nbformat_minor": 5
}
